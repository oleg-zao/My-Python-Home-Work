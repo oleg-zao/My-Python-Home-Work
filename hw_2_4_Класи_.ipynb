{
  "cells": [
    {
      "cell_type": "markdown",
      "metadata": {
        "id": "view-in-github",
        "colab_type": "text"
      },
      "source": [
        "<a href=\"https://colab.research.google.com/github/oleg-zao/My-Python-Home-Work/blob/main/hw_2_4_%D0%9A%D0%BB%D0%B0%D1%81%D0%B8_.ipynb\" target=\"_parent\"><img src=\"https://colab.research.google.com/assets/colab-badge.svg\" alt=\"Open In Colab\"/></a>"
      ]
    },
    {
      "cell_type": "markdown",
      "id": "1561554f",
      "metadata": {
        "id": "1561554f"
      },
      "source": [
        "# Домашнє завдання до теми \"Classes\"\n",
        "В цьому домашньому завданні в деяких задачах є частини коду, та в кожному завданні описано, що з ними треба зробити, часто - просто виконати після того, як ви напишете частину, якої поки не вистачає. Пишіть, будь ласка, код, який реалізує рішення кожного завдання, безпосереньо під формулюванням завдання, створюючи нові клітинки. Можете створювати скільки завгодно клітинок для виконання одного завдання."
      ]
    },
    {
      "cell_type": "markdown",
      "id": "5f983749",
      "metadata": {
        "id": "5f983749"
      },
      "source": [
        "1.Нижче є створений клас \"Shop\". Це клас для визначення магазинів компанії \"АВС\". У кожного магазина є локація і прибуток. Створіть три магазини в трьох окремих змінних:  \n",
        "- один з локацією \"Київ\" та прибутком 5500,   \n",
        "- другий - з локацією \"Львів\" та прибутком 3000,  \n",
        "- третій - з локацією \"Полтава\" та прибутком 2500  \n",
        "\n",
        "Порахуйте після цього суму прибутків трьох магазинів використовуючи інформацію про створені магазини.\n",
        "Виведіть сумарний прибуток на екран."
      ]
    },
    {
      "cell_type": "code",
      "execution_count": 1,
      "id": "84cb2eb2",
      "metadata": {
        "ExecuteTime": {
          "end_time": "2022-10-22T10:05:31.337430Z",
          "start_time": "2022-10-22T10:05:31.321277Z"
        },
        "id": "84cb2eb2"
      },
      "outputs": [],
      "source": [
        "class Shop:\n",
        "    company = 'ABC'\n",
        "\n",
        "    def __init__(self, location, profit):\n",
        "        self.location = location\n",
        "        self.profit = profit"
      ]
    },
    {
      "cell_type": "code",
      "execution_count": 3,
      "id": "170727c8",
      "metadata": {
        "id": "170727c8",
        "colab": {
          "base_uri": "https://localhost:8080/"
        },
        "outputId": "ab6335fc-e756-47be-ed7c-72f5f10dd2fa"
      },
      "outputs": [
        {
          "output_type": "execute_result",
          "data": {
            "text/plain": [
              "11000"
            ]
          },
          "metadata": {},
          "execution_count": 3
        }
      ],
      "source": [
        "# Створюємо три магазини з заданими локаціями та прибутками\n",
        "shop_kyiv = Shop(\"Київ\", 5500)\n",
        "shop_lviv = Shop(\"Львів\", 3000)\n",
        "shop_poltava = Shop(\"Полтава\", 2500)\n",
        "\n",
        "# Рахуємо сумарний прибуток трьох магазинів\n",
        "total_profit = shop_kyiv.profit + shop_lviv.profit + shop_poltava.profit\n",
        "\n",
        "# Виводимо сумарний прибуток на екран\n",
        "total_profit"
      ]
    },
    {
      "cell_type": "markdown",
      "id": "3feaa824",
      "metadata": {
        "ExecuteTime": {
          "end_time": "2022-10-22T10:12:49.668479Z",
          "start_time": "2022-10-22T10:12:49.636219Z"
        },
        "id": "3feaa824"
      },
      "source": [
        "2.Створіть клас `Employee`, який при ініціалізації представника класу визначає поля \"Прізвище\", \"Місяць народження\" та \"Зарплата\" та запустіть код нижче."
      ]
    },
    {
      "cell_type": "code",
      "source": [
        "# Створюємо клас Employee\n",
        "class Employee:\n",
        "    def __init__(self, surname, birth_month, salary):\n",
        "        self.surname = surname\n",
        "        self.birth_month = birth_month\n",
        "        self.salary = salary"
      ],
      "metadata": {
        "id": "2RbU_Ii4XpKZ"
      },
      "id": "2RbU_Ii4XpKZ",
      "execution_count": 6,
      "outputs": []
    },
    {
      "cell_type": "code",
      "execution_count": 7,
      "id": "b0fcc9f2",
      "metadata": {
        "ExecuteTime": {
          "end_time": "2022-10-22T10:17:27.305480Z",
          "start_time": "2022-10-22T10:17:27.302072Z"
        },
        "id": "b0fcc9f2"
      },
      "outputs": [],
      "source": [
        "emp_1 = Employee('Чорненко', 'жовтень', 2000)\n",
        "emp_2 = Employee('Біленко', 'січень', 3000)\n",
        "emp_3 = Employee('Жовтенко', 'березень', 3400)"
      ]
    },
    {
      "cell_type": "code",
      "execution_count": 8,
      "id": "5850a071",
      "metadata": {
        "id": "5850a071",
        "colab": {
          "base_uri": "https://localhost:8080/"
        },
        "outputId": "d3bd897a-336c-4009-bd03-2618371f9072"
      },
      "outputs": [
        {
          "output_type": "execute_result",
          "data": {
            "text/plain": [
              "(('Чорненко', 'жовтень', 2000),\n",
              " ('Біленко', 'січень', 3000),\n",
              " ('Жовтенко', 'березень', 3400))"
            ]
          },
          "metadata": {},
          "execution_count": 8
        }
      ],
      "source": [
        "# Перевіряємо, що представники створені правильно\n",
        "(emp_1.surname, emp_1.birth_month, emp_1.salary), (emp_2.surname, emp_2.birth_month, emp_2.salary), (emp_3.surname, emp_3.birth_month, emp_3.salary)"
      ]
    },
    {
      "cell_type": "markdown",
      "id": "d6d285b8",
      "metadata": {
        "ExecuteTime": {
          "end_time": "2022-10-22T10:17:28.531508Z",
          "start_time": "2022-10-22T10:17:28.526117Z"
        },
        "id": "d6d285b8"
      },
      "source": [
        "3.До класу `Employee` додайте метод `salutate`, який вітатиме з **місяцем** народження. Аби додати метод - скопіюйте просто код з визначенням класа з попереднього завдання і додайте туди новий метод.  \n",
        "Метод має приймати на вхід заданий місяць і\n",
        "- якщо цей місяць співпадає з місяцем народження співробітника, виводить `Вітаємо, пане <прізвище співробітника>! Зараз місяць <назва місяця> у Вас День народження! Будьте здорові!`. Для формування привітання використайте інтерполяцію рядків.\n",
        "- якщо місяць не співпадає з місяцем народження співробітника, метод нічого не вертає.  \n",
        "\n",
        "Коли зробите завдання - запустіть код нижче."
      ]
    },
    {
      "cell_type": "code",
      "execution_count": 12,
      "id": "be3e17d7",
      "metadata": {
        "id": "be3e17d7",
        "colab": {
          "base_uri": "https://localhost:8080/"
        },
        "outputId": "9e618d98-69a4-4dbb-c5fd-ce13e460d22e"
      },
      "outputs": [
        {
          "output_type": "stream",
          "name": "stdout",
          "text": [
            "Вітаємо, пане Біленко! Зараз місяць січень, у Вас День народження! Будьте здорові!\n"
          ]
        }
      ],
      "source": [
        "# Створюємо клас Employee з новим методом salutate\n",
        "class Employee:\n",
        "    def __init__(self, surname, birth_month, salary):\n",
        "        self.surname = surname\n",
        "        self.birth_month = birth_month\n",
        "        self.salary = salary\n",
        "\n",
        "    # Метод для привітання з місяцем народження\n",
        "    def salutate(self, current_month):\n",
        "        if current_month == self.birth_month:\n",
        "            print(f\"Вітаємо, пане {self.surname}! Зараз місяць {self.birth_month}, у Вас День народження! Будьте здорові!\")\n",
        "\n",
        "# Створюємо представників класу Employee\n",
        "emp_1 = Employee('Чорненко', 'жовтень', 2000)\n",
        "emp_2 = Employee('Біленко', 'січень', 3000)\n",
        "emp_3 = Employee('Жовтенко', 'березень', 3400)\n",
        "\n",
        "# Викликаємо метод salutate для кожного співробітника\n",
        "emp_1.salutate('грудень')\n",
        "emp_2.salutate('січень')\n",
        "emp_3.salutate('травень')"
      ]
    },
    {
      "cell_type": "markdown",
      "id": "ca02deba",
      "metadata": {
        "id": "ca02deba"
      },
      "source": [
        "4.Створіть клас, який наслідує `Employee` та називається `BossEmployee`. У цього класа при ініціалізації є всі ті самі поля, що і в Employee, але також є поле `n_subordinates`, тобто \"кількість підлеглих\".\n",
        "\n",
        "Додайте новоствореному класу метод `add_subordinates`, який додаватиме передану в метод кількість підлеглих цьому босу (тобто буде оновлювати поле класу `n_subordinates`) та буде виводити повідомлення `Вітаємо, пане <прізвище співробітника>! У Вас <введене в метод число> нових співробітників!`. Перевірте, аби кількість нових підлеглих була цілою, якщо це не так, виведіть повідомлення: `Число <введене в метод число, округлене до трьох чисел після коми> не може бути кількістю підлеглих.`.\n",
        "\n",
        "Для формування повідомлень використайте метод форматування рядків, котрий був другим в лекції (з `format` частиною).\n",
        "Коли зробите завдання - запустіть код нижче."
      ]
    },
    {
      "cell_type": "code",
      "execution_count": 16,
      "id": "ac4f01e7",
      "metadata": {
        "id": "ac4f01e7",
        "colab": {
          "base_uri": "https://localhost:8080/"
        },
        "outputId": "08b42af1-a97f-4b4c-ba8d-90d0f12b7ba5"
      },
      "outputs": [
        {
          "output_type": "stream",
          "name": "stdout",
          "text": [
            "Вітаємо, пане Босенко! У Вас 5 нових співробітників!\n",
            "Число 4.788 не може бути кількістю підлеглих.\n",
            "Вітаємо, пане Босенко! У Вас 4 нових співробітників!\n"
          ]
        },
        {
          "output_type": "execute_result",
          "data": {
            "text/plain": [
              "12"
            ]
          },
          "metadata": {},
          "execution_count": 16
        }
      ],
      "source": [
        "# Створюємо клас BossEmployee, який наслідує Employee\n",
        "class BossEmployee(Employee):\n",
        "    def __init__(self, surname, birth_month, salary, n_subordinates):\n",
        "        super().__init__(surname, birth_month, salary)\n",
        "        self.n_subordinates = n_subordinates\n",
        "\n",
        "    # Метод для додавання підлеглих\n",
        "    def add_subordinates(self, new_subordinates):\n",
        "        if isinstance(new_subordinates, int):\n",
        "            self.n_subordinates += new_subordinates\n",
        "            print(\"Вітаємо, пане {}! У Вас {} нових співробітників!\".format(self.surname, new_subordinates))\n",
        "        else:\n",
        "            print(\"Число {:.3f} не може бути кількістю підлеглих.\".format(new_subordinates))\n",
        "\n",
        "# Створюємо об'єкт класу BossEmployee\n",
        "emp_4 = BossEmployee('Босенко', 'липень', 5500, 3)\n",
        "\n",
        "# Перевіряємо роботу методу add_subordinates\n",
        "emp_4.add_subordinates(5)\n",
        "emp_4.add_subordinates(4.78764174)\n",
        "emp_4.add_subordinates(4)\n",
        "emp_4.n_subordinates"
      ]
    },
    {
      "cell_type": "markdown",
      "id": "c3e0bd00",
      "metadata": {
        "id": "c3e0bd00"
      },
      "source": [
        "Очікуваний результат виконання команд вище:\n",
        "```\n",
        "Вітаємо, пане Босенко! У Вас 5 нових співробітників!     \n",
        "Число 4.788 не може бути кількістю підлеглих.\n",
        "Вітаємо, пане Босенко! У Вас 4 нових співробітників!\n",
        "12\n",
        "```"
      ]
    },
    {
      "cell_type": "markdown",
      "id": "441e5d09",
      "metadata": {
        "id": "441e5d09"
      },
      "source": [
        "# Ураа!! Ви завершили ВСІ завдання ДРУГОГО ТЕХНІЧНОГО МОДУЛЮ!!! З кожним ДЗ Ви стаєте з Python все ближче і ближче. Ваші відносини зараз - \"він поставив вогник на вашу сторис\" 😉\n",
        "\n",
        "В кінці курсу будете наче пити з ним просеко на кухні і обговорювати останні мемчики.  \n",
        "\n",
        "Далі - ще цікавіше! 🚀🚀🚀"
      ]
    }
  ],
  "metadata": {
    "kernelspec": {
      "display_name": "Python 3 (ipykernel)",
      "language": "python",
      "name": "python3"
    },
    "language_info": {
      "codemirror_mode": {
        "name": "ipython",
        "version": 3
      },
      "file_extension": ".py",
      "mimetype": "text/x-python",
      "name": "python",
      "nbconvert_exporter": "python",
      "pygments_lexer": "ipython3",
      "version": "3.10.4"
    },
    "toc": {
      "base_numbering": 1,
      "nav_menu": {},
      "number_sections": true,
      "sideBar": true,
      "skip_h1_title": false,
      "title_cell": "Table of Contents",
      "title_sidebar": "Contents",
      "toc_cell": false,
      "toc_position": {},
      "toc_section_display": true,
      "toc_window_display": false
    },
    "colab": {
      "provenance": [],
      "include_colab_link": true
    }
  },
  "nbformat": 4,
  "nbformat_minor": 5
}