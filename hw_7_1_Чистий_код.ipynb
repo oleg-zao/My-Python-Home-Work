{
  "cells": [
    {
      "cell_type": "markdown",
      "metadata": {
        "id": "view-in-github",
        "colab_type": "text"
      },
      "source": [
        "<a href=\"https://colab.research.google.com/github/oleg-zao/My-Python-Home-Work/blob/main/hw_7_1_%D0%A7%D0%B8%D1%81%D1%82%D0%B8%D0%B9_%D0%BA%D0%BE%D0%B4.ipynb\" target=\"_parent\"><img src=\"https://colab.research.google.com/assets/colab-badge.svg\" alt=\"Open In Colab\"/></a>"
      ]
    },
    {
      "cell_type": "markdown",
      "id": "aed503f1",
      "metadata": {
        "ExecuteTime": {
          "end_time": "2023-07-27T20:14:32.871852Z",
          "start_time": "2023-07-27T20:14:31.036121Z"
        },
        "id": "aed503f1"
      },
      "source": [
        "У завданнях 1-4. Вам наданий простий код на Python, який не відповідає вказівкам PEP8. Ваше завдання — відредагувати код так, аби він відповідав PEP8. Напишіть після редагуванню коду, дотримання яких правил з pep8 ви досягли в відредагованій версі, наприклад\n",
        "```\n",
        "- додала пробіли навколо бінарного оператора\n",
        "- додала два порожні рядки між визначеннями функцій\n",
        "і тд\n",
        "```\n",
        "Також можна зазначити використані правила коментарями по коду, а не окремим повідомленням.\n",
        "\n",
        "Відредагований код має виконувати весь той самий функціонал, але бути написаний відповідно до вимог до гарного коду на Python! Не забудьте запустити відредагований код, він має бути робочим."
      ]
    },
    {
      "cell_type": "markdown",
      "id": "e7fea147",
      "metadata": {
        "id": "e7fea147"
      },
      "source": [
        "Завдання 1."
      ]
    },
    {
      "cell_type": "code",
      "execution_count": 1,
      "id": "f63d84d7",
      "metadata": {
        "ExecuteTime": {
          "end_time": "2023-07-29T17:02:37.075783Z",
          "start_time": "2023-07-29T17:02:37.035259Z"
        },
        "id": "f63d84d7",
        "colab": {
          "base_uri": "https://localhost:8080/",
          "height": 69
        },
        "outputId": "12094728-caba-47da-cb9d-6cdbcb89cbb6"
      },
      "outputs": [
        {
          "output_type": "stream",
          "name": "stdout",
          "text": [
            "Hello, John\n"
          ]
        },
        {
          "output_type": "display_data",
          "data": {
            "text/plain": [
              "None"
            ]
          },
          "metadata": {}
        },
        {
          "output_type": "display_data",
          "data": {
            "text/plain": [
              "8"
            ]
          },
          "metadata": {}
        }
      ],
      "source": [
        "def greet(name):print(f\"Hello, {name}\")\n",
        "def add(n1,n2):return n1+n2\n",
        "\n",
        "x = 5;y = 3\n",
        "display(greet(\"John\"),add(x,y))"
      ]
    },
    {
      "cell_type": "code",
      "source": [
        "# Відредагована версія коду згідно з PEP8\n",
        "\n",
        "def greet(name):\n",
        "    print(f\"Hello, {name}\")\n",
        "\n",
        "def add(n1, n2):\n",
        "    return n1 + n2\n",
        "\n",
        "x = 5\n",
        "y = 3\n",
        "\n",
        "greet(\"John\")\n",
        "result = add(x, y)\n",
        "print(result)"
      ],
      "metadata": {
        "colab": {
          "base_uri": "https://localhost:8080/"
        },
        "id": "v54lST8r_IFN",
        "outputId": "1078bb0e-bbbf-44f9-fde1-662f8ebbf666"
      },
      "id": "v54lST8r_IFN",
      "execution_count": 5,
      "outputs": [
        {
          "output_type": "stream",
          "name": "stdout",
          "text": [
            "Hello, John\n",
            "8\n"
          ]
        }
      ]
    },
    {
      "cell_type": "markdown",
      "source": [
        "1. **Додано два порожні рядки між визначеннями функцій**:\n",
        "   - Відповідно до PEP8, функції повинні бути відокремлені двома порожніми рядками для кращої читабельності.\n",
        "\n",
        "2. **Додано пробіли після ком**:\n",
        "   - У рядках з присвоєнням змінних `x = 5` і `y = 3` було додано пробіли перед і після оператора `=` (це правило про бінарні оператори в PEP8).\n",
        "\n",
        "3. **Окремі інструкції на окремих рядках**:\n",
        "   - У початковому коді `x = 5; y = 3` було на одному рядку. Відповідно до PEP8, кожен вираз має бути на окремому рядку, тому ми розділили цей код на два рядки.\n",
        "\n",
        "4. **Вилучено некоректне використання функції `display`**:\n",
        "   - Початковий код мав виклик функції `display`, якої немає в Python. Ми замінили цей виклик на два окремі виклики: функції `greet` та виведення результату додавання через `print(result)`.\n"
      ],
      "metadata": {
        "id": "zXW9Jz71AvwL"
      },
      "id": "zXW9Jz71AvwL"
    },
    {
      "cell_type": "markdown",
      "id": "cea88baf",
      "metadata": {
        "id": "cea88baf"
      },
      "source": [
        "Завдання 2."
      ]
    },
    {
      "cell_type": "code",
      "execution_count": 6,
      "id": "dfb6d2b5",
      "metadata": {
        "ExecuteTime": {
          "end_time": "2023-07-29T17:05:49.706098Z",
          "start_time": "2023-07-29T17:05:49.688255Z"
        },
        "id": "dfb6d2b5",
        "colab": {
          "base_uri": "https://localhost:8080/"
        },
        "outputId": "82b38930-e229-428f-9ab3-1a47beca9f57"
      },
      "outputs": [
        {
          "output_type": "stream",
          "name": "stdout",
          "text": [
            "Area: 78.53981633974483 Circumference: 31.41592653589793\n"
          ]
        }
      ],
      "source": [
        "from math import *\n",
        "def calcArea(r):return pi*r**2\n",
        "def calcCircumference(r):return 2*pi*r\n",
        "\n",
        "radius=5\n",
        "print(\"Area:\",calcArea(radius),\"Circumference:\",calcCircumference(radius))"
      ]
    },
    {
      "cell_type": "code",
      "execution_count": 10,
      "id": "df263672",
      "metadata": {
        "id": "df263672",
        "colab": {
          "base_uri": "https://localhost:8080/"
        },
        "outputId": "ce7e34c9-b0d0-45f1-863a-1e364d223cb9"
      },
      "outputs": [
        {
          "output_type": "stream",
          "name": "stdout",
          "text": [
            "Area: 78.53981633974483 Circumference: 31.41592653589793\n"
          ]
        }
      ],
      "source": [
        "# Відредагована версія коду згідно з PEP8\n",
        "\n",
        "from math import pi\n",
        "\n",
        "# Функція для обчислення площі кола\n",
        "def calc_area(r):\n",
        "    return pi * r ** 2\n",
        "\n",
        "# Функція для обчислення довжини кола\n",
        "def calc_circumference(r):\n",
        "    return 2 * pi * r\n",
        "\n",
        "# Задаємо значення радіуса\n",
        "radius = 5\n",
        "\n",
        "# Виведемо площу і довжину кола\n",
        "print(\"Area:\", calc_area(radius), \"Circumference:\", calc_circumference(radius))\n"
      ]
    },
    {
      "cell_type": "markdown",
      "source": [
        "1. **Імпорт тільки необхідної функції**:\n",
        "   - Із модуля `math` імпортовано тільки константу `pi`, замість імпорту всіх функцій та змінних через `from math import *`. Це робить код зрозумілішим і уникне конфліктів імен.\n",
        "\n",
        "2. **Використання зрозумілих імен функцій**:\n",
        "   - Імена функцій змінено з `calcArea` і `calcCircumference` на `calc_area` і `calc_circumference`, оскільки PEP8 рекомендує використовувати стиль з нижніми підкресленнями для імен функцій.\n",
        "\n",
        "3. **Додано два порожні рядки між визначеннями функцій**:\n",
        "   - Відповідно до PEP8, функції повинні бути відокремлені двома порожніми рядками.\n",
        "\n",
        "4. **Додано документацію для функцій**:\n",
        "   - Додано короткі коментарі та docstring для пояснення того, що роблять функції.\n",
        "\n",
        "5. **Додано пробіли навколо операторів**:\n",
        "   - Додано пробіли навколо оператора множення `*` і ступеня `**` для поліпшення читабельності.\n"
      ],
      "metadata": {
        "id": "D-1Oa9lMRppy"
      },
      "id": "D-1Oa9lMRppy"
    },
    {
      "cell_type": "markdown",
      "id": "1fd691b7",
      "metadata": {
        "id": "1fd691b7"
      },
      "source": [
        "Завдання 3."
      ]
    },
    {
      "cell_type": "code",
      "execution_count": 9,
      "id": "1d5acb2d",
      "metadata": {
        "ExecuteTime": {
          "end_time": "2023-07-29T17:06:18.612622Z",
          "start_time": "2023-07-29T17:06:18.598477Z"
        },
        "id": "1d5acb2d"
      },
      "outputs": [],
      "source": [
        "class animal: pass\n",
        "class dog(animal):\n",
        "    def __init__(self,name):\n",
        "        self.name=name\n",
        "        self.type='Dog'"
      ]
    },
    {
      "cell_type": "code",
      "execution_count": 11,
      "id": "0d4b2b8a",
      "metadata": {
        "id": "0d4b2b8a"
      },
      "outputs": [],
      "source": [
        "# Відповідно до PEP8, класи слід називати з великої літери\n",
        "class Animal:\n",
        "    pass\n",
        "\n",
        "class Dog(Animal):\n",
        "    \"\"\"Клас для опису собаки, успадкований від класу Animal.\"\"\"\n",
        "\n",
        "    def __init__(self, name):\n",
        "        # Ініціалізуємо ім'я та тип тварини\n",
        "        self.name = name\n",
        "        self.type = 'Dog'\n"
      ]
    },
    {
      "cell_type": "markdown",
      "source": [
        "1. **Імена класів пишемо з великої літери**:\n",
        "   - Ім'я класу `animal` змінено на `Animal`, а клас `dog` — на `Dog`, оскільки згідно з PEP8, імена класів повинні використовувати стиль **CapWords** (великі літери для кожного слова).\n",
        "\n",
        "2. **Додано пробіли навколо оператора присвоєння**:\n",
        "   - У рядку `self.name=name` додано пробіли: тепер це виглядає як `self.name = name`, відповідно до PEP8.\n",
        "\n",
        "3. **Додано короткий docstring**:\n",
        "   - Додано docstring до класу `Dog`, що допомагає зрозуміти його призначення.\n"
      ],
      "metadata": {
        "id": "Ud7jsmIdTpFZ"
      },
      "id": "Ud7jsmIdTpFZ"
    },
    {
      "cell_type": "markdown",
      "id": "7d1d4f5d",
      "metadata": {
        "id": "7d1d4f5d"
      },
      "source": [
        "Завдання 4."
      ]
    },
    {
      "cell_type": "code",
      "execution_count": 12,
      "id": "a91c1cc4",
      "metadata": {
        "ExecuteTime": {
          "end_time": "2023-07-29T17:06:47.180263Z",
          "start_time": "2023-07-29T17:06:47.173617Z"
        },
        "id": "a91c1cc4",
        "colab": {
          "base_uri": "https://localhost:8080/"
        },
        "outputId": "3998a16c-ac15-42dc-91e4-92e357349e69"
      },
      "outputs": [
        {
          "output_type": "stream",
          "name": "stdout",
          "text": [
            "1\n",
            "2\n",
            "3\n",
            "4\n",
            "5\n"
          ]
        }
      ],
      "source": [
        "list=[1,2,3,4,5]\n",
        "for i in range(len(list)):print(list[i])"
      ]
    },
    {
      "cell_type": "code",
      "source": [
        "# Оригінальний список даних\n",
        "my_list = [1, 2, 3, 4, 5]  # Уникаємо використання зарезервованих слів як імен змінних\n",
        "\n",
        "# Ітеруємо через список і виводимо кожен елемент\n",
        "for i in range(len(my_list)):\n",
        "    print(my_list[i])\n"
      ],
      "metadata": {
        "colab": {
          "base_uri": "https://localhost:8080/"
        },
        "id": "4T_sKZRdYkVa",
        "outputId": "9b2ef671-5e42-40d1-9554-4fab08ad202f"
      },
      "id": "4T_sKZRdYkVa",
      "execution_count": 14,
      "outputs": [
        {
          "output_type": "stream",
          "name": "stdout",
          "text": [
            "1\n",
            "2\n",
            "3\n",
            "4\n",
            "5\n"
          ]
        }
      ]
    },
    {
      "cell_type": "markdown",
      "source": [
        "1. **Не використовується зарезервоване слово `list` як ім'я змінної**:\n",
        "   - `list` — це вбудована функція в Python, тому її використання як імені змінної може викликати конфлікти. Ім'я змінної змінено на `my_list`.\n",
        "\n",
        "2. **Додано пробіли після ком і перед коментарями**:\n",
        "   - Після елементів списку та перед коментарями додано пробіли для кращої читабельності.\n",
        "\n"
      ],
      "metadata": {
        "id": "-GDjec04Y1oF"
      },
      "id": "-GDjec04Y1oF"
    },
    {
      "cell_type": "code",
      "source": [
        "# А можна ще так\n",
        "my_list = [1, 2, 3, 4, 5]\n",
        "\n",
        "for item in my_list:\n",
        "    print(item)\n"
      ],
      "metadata": {
        "colab": {
          "base_uri": "https://localhost:8080/"
        },
        "id": "QLybUeNUZXkd",
        "outputId": "94216d67-8395-453e-eb7f-134d2e3046c3"
      },
      "id": "QLybUeNUZXkd",
      "execution_count": 15,
      "outputs": [
        {
          "output_type": "stream",
          "name": "stdout",
          "text": [
            "1\n",
            "2\n",
            "3\n",
            "4\n",
            "5\n"
          ]
        }
      ]
    },
    {
      "cell_type": "markdown",
      "id": "8b0487e6",
      "metadata": {
        "id": "8b0487e6"
      },
      "source": [
        "### 5.У вас є DataFrame df, що представляє результати тестів студентів з математики, англійської мови та історії. Поточний код обчислює середній бал для кожного студента шляхом ітерації за рядками DataFrame за допомогою iterrows().\n",
        "\n",
        "Ваше завдання полягає в тому, щоб змінити код так, аби уникнути використання iterrows() і замість цього застосувати більш ефективне та читабельне рішення відповідно до правил, озвучених у лекції. Рефакторинг треба зробити лише частині, де рахуються середні, імпорт і визначення датафрейму лишаємо без змін."
      ]
    },
    {
      "cell_type": "code",
      "execution_count": 12,
      "id": "5b3cc648",
      "metadata": {
        "ExecuteTime": {
          "end_time": "2023-07-29T17:15:55.926882Z",
          "start_time": "2023-07-29T17:15:55.686415Z"
        },
        "id": "5b3cc648"
      },
      "outputs": [],
      "source": [
        "import pandas as pd\n",
        "\n",
        "df = pd.DataFrame({\n",
        "    'student': ['Alice', 'Bob', 'Charlie', 'David'],\n",
        "    'math_score': [89, 94, 77, 85],\n",
        "    'english_score': [92, 88, 79, 85],\n",
        "    'history_score': [84, 92, 81, 89]\n",
        "})"
      ]
    },
    {
      "cell_type": "code",
      "execution_count": 13,
      "id": "f5858889",
      "metadata": {
        "ExecuteTime": {
          "end_time": "2023-07-29T17:15:55.926882Z",
          "start_time": "2023-07-29T17:15:55.686415Z"
        },
        "id": "f5858889"
      },
      "outputs": [],
      "source": [
        "averages = []\n",
        "for _, row in df.iterrows():\n",
        "    averages.append((row['math_score'] + row['english_score'] + row['history_score']) / 3)\n",
        "\n",
        "df['average_score'] = averages"
      ]
    },
    {
      "cell_type": "code",
      "execution_count": 15,
      "id": "74cea4fc",
      "metadata": {
        "id": "74cea4fc",
        "colab": {
          "base_uri": "https://localhost:8080/"
        },
        "outputId": "2c326314-8168-4334-99ab-b07d6177027d"
      },
      "outputs": [
        {
          "output_type": "stream",
          "name": "stdout",
          "text": [
            "   student  math_score  english_score  history_score  average_score\n",
            "0    Alice          89             92             84      88.333333\n",
            "1      Bob          94             88             92      91.333333\n",
            "2  Charlie          77             79             81      79.000000\n",
            "3    David          85             85             89      86.333333\n"
          ]
        }
      ],
      "source": [
        "# Відредагований код\n",
        "\n",
        "import pandas as pd\n",
        "\n",
        "# Визначення DataFrame\n",
        "df = pd.DataFrame({\n",
        "    'student': ['Alice', 'Bob', 'Charlie', 'David'],\n",
        "    'math_score': [89, 94, 77, 85],\n",
        "    'english_score': [92, 88, 79, 85],\n",
        "    'history_score': [84, 92, 81, 89]\n",
        "})\n",
        "\n",
        "# Рефакторинг частини коду для обчислення середніх балів\n",
        "df['average_score'] = df[['math_score', 'english_score', 'history_score']].mean(axis=1)\n",
        "\n",
        "# Виведемо оновлений DataFrame\n",
        "print(df)\n"
      ]
    },
    {
      "cell_type": "markdown",
      "id": "34fb1db9",
      "metadata": {
        "id": "34fb1db9"
      },
      "source": [
        "6.У Вас є великий DataFrame df, що представляє транзакції продажу в магазині. Цей DataFrame містить понад 1 мільйон рядків і кілька стовпців, зокрема «product_name», «product_category», «product_price» і «transaction_date».\n",
        "\n",
        "І «product_name», і «product_category» є рядками, що представляють численні, але обмежені унікальні назви продуктів і категорії відповідно.\n",
        "\n",
        "Напишіть код для ефективного перетворення стовпців «product_name» і «product_category» на категорійний тип для ефективного використання пам’яті.\n",
        "Спробуйте вирішити це завдання, мінімізуючи використання пам'яті та зберігаючи читабельність коду. Крім того, виміряйте використання пам’яті до та після перетворення, щоб продемонструвати підвищення ефективності.\n",
        "\n",
        "Порівняйте кількість памʼяті, яку займає наданий набір даних і новий, створений Вами. В лекції був приклад. В скільки разів менше памʼяті займає новий датафрейм?"
      ]
    },
    {
      "cell_type": "code",
      "execution_count": 9,
      "id": "d4926909",
      "metadata": {
        "ExecuteTime": {
          "end_time": "2023-07-29T21:19:30.009527Z",
          "start_time": "2023-07-29T21:19:29.595210Z"
        },
        "id": "d4926909"
      },
      "outputs": [],
      "source": [
        "import pandas as pd\n",
        "import numpy as np\n",
        "\n",
        "np.random.seed(0)\n",
        "\n",
        "products = ['apple', 'banana', 'cherry', 'dates', 'elderberry']\n",
        "categories = ['fruit', 'fruit', 'fruit', 'fruit', 'fruit']\n",
        "\n",
        "N_ROWS = 10**6\n",
        "df = pd.DataFrame({\n",
        "    'product_name': np.random.choice(products, N_ROWS),\n",
        "    'product_category': np.random.choice(categories, N_ROWS),\n",
        "    'product_price': np.random.uniform(1, 10, N_ROWS),\n",
        "    'transaction_date': pd.date_range(start='1/1/2000', periods=N_ROWS, freq='h')\n",
        "})\n"
      ]
    },
    {
      "cell_type": "code",
      "source": [
        "import pandas as pd\n",
        "import numpy as np\n",
        "\n",
        "# Ініціалізація даних\n",
        "np.random.seed(0)\n",
        "\n",
        "products = ['apple', 'banana', 'cherry', 'dates', 'elderberry']\n",
        "categories = ['fruit', 'fruit', 'fruit', 'fruit', 'fruit']\n",
        "\n",
        "N_ROWS = 10**6\n",
        "df = pd.DataFrame({\n",
        "    'product_name': np.random.choice(products, N_ROWS),\n",
        "    'product_category': np.random.choice(categories, N_ROWS),\n",
        "    'product_price': np.random.uniform(1, 10, N_ROWS),\n",
        "    'transaction_date': pd.date_range(start='1/1/2000', periods=N_ROWS, freq='h')\n",
        "})\n",
        "\n",
        "# Вимірюємо використання пам'яті до перетворення\n",
        "memory_before = df.memory_usage(deep=True).sum()\n",
        "\n",
        "# Перетворення стовпців на категорійний тип\n",
        "df['product_name'] = df['product_name'].astype('category')\n",
        "df['product_category'] = df['product_category'].astype('category')\n",
        "\n",
        "# Вимірюємо використання пам'яті після перетворення\n",
        "memory_after = df.memory_usage(deep=True).sum()\n",
        "\n",
        "# Рахуємо скільки разів зменшилося використання пам'яті\n",
        "memory_reduction = memory_before / memory_after\n",
        "\n",
        "# Показуємо результат\n",
        "memory_before, memory_after, memory_reduction\n"
      ],
      "metadata": {
        "colab": {
          "base_uri": "https://localhost:8080/"
        },
        "id": "AgpzKwBo0J1T",
        "outputId": "117da2fb-783e-4da3-8234-d404afec6df0"
      },
      "id": "AgpzKwBo0J1T",
      "execution_count": 16,
      "outputs": [
        {
          "output_type": "execute_result",
          "data": {
            "text/plain": [
              "(141398520, 18000787, 7.855129889598716)"
            ]
          },
          "metadata": {},
          "execution_count": 16
        }
      ]
    },
    {
      "cell_type": "code",
      "source": [
        "# Перетворимо байти в мегабайти\n",
        "memory_before_mb = memory_before / (1024**2)\n",
        "memory_after_mb = memory_after / (1024**2)\n",
        "\n",
        "# Показуємо результат у мегабайтах\n",
        "memory_before_mb, memory_after_mb, memory_reduction\n"
      ],
      "metadata": {
        "colab": {
          "base_uri": "https://localhost:8080/"
        },
        "id": "yjLhIwQv0T-t",
        "outputId": "796c3a31-b7a0-427a-f86d-f4300242e695"
      },
      "id": "yjLhIwQv0T-t",
      "execution_count": 17,
      "outputs": [
        {
          "output_type": "execute_result",
          "data": {
            "text/plain": [
              "(134.84813690185547, 17.16688823699951, 7.855129889598716)"
            ]
          },
          "metadata": {},
          "execution_count": 17
        }
      ]
    },
    {
      "cell_type": "code",
      "source": [
        "# Округлюємо значення до двох знаків після коми\n",
        "memory_before_mb_rounded = round(memory_before_mb, 2)\n",
        "memory_after_mb_rounded = round(memory_after_mb, 2)\n",
        "\n",
        "# Показуємо результат\n",
        "memory_before_mb_rounded, memory_after_mb_rounded, round(memory_reduction, 2)\n"
      ],
      "metadata": {
        "colab": {
          "base_uri": "https://localhost:8080/"
        },
        "id": "kDsOusNa0wUb",
        "outputId": "35d5c7b2-0058-45d1-a67d-c7cf0c5b593f"
      },
      "id": "kDsOusNa0wUb",
      "execution_count": 18,
      "outputs": [
        {
          "output_type": "execute_result",
          "data": {
            "text/plain": [
              "(134.85, 17.17, 7.86)"
            ]
          },
          "metadata": {},
          "execution_count": 18
        }
      ]
    },
    {
      "cell_type": "markdown",
      "source": [
        "Пам'ять до перетворення: 134.85 МБ\n",
        "\n",
        "Пам'ять після перетворення: 17.17 МБ\n",
        "\n",
        "Зменшення використання пам'яті: в 7.86 разів"
      ],
      "metadata": {
        "id": "r0uoMEXe1At9"
      },
      "id": "r0uoMEXe1At9"
    },
    {
      "cell_type": "markdown",
      "id": "131cc08d",
      "metadata": {
        "id": "131cc08d"
      },
      "source": [
        "7.В цьому завданні кілька пунктів. Треба виконати усі послідовно.   \n",
        "    7.1. Завантажте дані у pandas dataframe з файла `ecommerce_data.csv`. Обовʼязково при завантаженні вкажіть параметр `encoding = 'ISO-8859-1'`, без нього буде помилка.  \n",
        "    7.2. Заповніть пропущені значення в колонці CustomerID на -1 та перетворіть тип цієї колонки на str, адже зараз вона типу float, а це не правильний тип даних для ідентифікатора клієнта.  \n",
        "    7.3. З допомогою бібліотеки sweetviz побудуйте html звіт, який порівнює дані для країни \"Germany\" і країни \"France\". У Вас можуть виникнути багато попереджень (Warning), їх рекомендую вимкнути наступним шматком коду   \n",
        "    \n",
        "   \n",
        "    import warnings\n",
        "\n",
        "    with warnings.catch_warnings(record=True):\n",
        "        # your code\n",
        "    \n",
        "    \n",
        "   7.4.Напишіть 5 відмінностей для двох зазначених країн на основі побудованого звіту, без виконання додаткового аналізу іншими інструментами."
      ]
    },
    {
      "cell_type": "code",
      "source": [
        "from google.colab import drive\n",
        "drive.mount('/content/drive')"
      ],
      "metadata": {
        "colab": {
          "base_uri": "https://localhost:8080/"
        },
        "id": "kNA5WmexK7-a",
        "outputId": "0ad0527e-8225-4781-8672-08ffd764f920"
      },
      "id": "kNA5WmexK7-a",
      "execution_count": 1,
      "outputs": [
        {
          "output_type": "stream",
          "name": "stdout",
          "text": [
            "Mounted at /content/drive\n"
          ]
        }
      ]
    },
    {
      "cell_type": "code",
      "execution_count": 32,
      "id": "17200e77",
      "metadata": {
        "id": "17200e77",
        "colab": {
          "base_uri": "https://localhost:8080/"
        },
        "outputId": "af3be6f8-4895-4193-8a8f-d1a33bc5301e"
      },
      "outputs": [
        {
          "output_type": "stream",
          "name": "stdout",
          "text": [
            "  InvoiceNo StockCode                          Description  Quantity  \\\n",
            "0    536365    85123A   WHITE HANGING HEART T-LIGHT HOLDER         6   \n",
            "1    536365     71053                  WHITE METAL LANTERN         6   \n",
            "2    536365    84406B       CREAM CUPID HEARTS COAT HANGER         8   \n",
            "3    536365    84029G  KNITTED UNION FLAG HOT WATER BOTTLE         6   \n",
            "4    536365    84029E       RED WOOLLY HOTTIE WHITE HEART.         6   \n",
            "\n",
            "      InvoiceDate  UnitPrice  CustomerID         Country  \n",
            "0  12/1/2010 8:26       2.55     17850.0  United Kingdom  \n",
            "1  12/1/2010 8:26       3.39     17850.0  United Kingdom  \n",
            "2  12/1/2010 8:26       2.75     17850.0  United Kingdom  \n",
            "3  12/1/2010 8:26       3.39     17850.0  United Kingdom  \n",
            "4  12/1/2010 8:26       3.39     17850.0  United Kingdom  \n"
          ]
        }
      ],
      "source": [
        "import pandas as pd\n",
        "\n",
        "# Завантажуємо дані з файлу ecommerce_data.csv із зазначенням кодування\n",
        "df = pd.read_csv('/content/drive/MyDrive/ecommerce_data.csv', encoding='ISO-8859-1')\n",
        "\n",
        "# Переглянемо перші кілька рядків завантажених даних\n",
        "print(df.head())\n"
      ]
    },
    {
      "cell_type": "code",
      "source": [
        "# Заповнюємо пропущені значення в колонці CustomerID значенням -1\n",
        "df['CustomerID'] = df['CustomerID'].fillna(-1)\n",
        "\n",
        "# Перетворюємо тип колонки CustomerID на str\n",
        "df['CustomerID'] = df['CustomerID'].astype(str)\n",
        "\n",
        "# Переглянемо результат\n",
        "print(df['CustomerID'].head())\n"
      ],
      "metadata": {
        "colab": {
          "base_uri": "https://localhost:8080/"
        },
        "id": "vUzQCboAQGlP",
        "outputId": "6f15f36e-745b-47d6-fb8c-10471da1e904"
      },
      "id": "vUzQCboAQGlP",
      "execution_count": 33,
      "outputs": [
        {
          "output_type": "stream",
          "name": "stdout",
          "text": [
            "0    17850.0\n",
            "1    17850.0\n",
            "2    17850.0\n",
            "3    17850.0\n",
            "4    17850.0\n",
            "Name: CustomerID, dtype: object\n"
          ]
        }
      ]
    },
    {
      "cell_type": "code",
      "source": [
        "!pip install sweetviz\n",
        "import sweetviz as sv\n",
        "import warnings\n",
        "import pandas as pd\n",
        "\n",
        "# Виберемо дані для Germany і France\n",
        "df_germany = df[df['Country'] == 'Germany']\n",
        "df_france = df[df['Country'] == 'France']\n",
        "\n",
        "# Вимкнемо попередження\n",
        "with warnings.catch_warnings(record=True):\n",
        "    # Порівняння даних для Germany і France\n",
        "    report = sv.compare([df_germany, \"Germany\"], [df_france, \"France\"])\n",
        "\n",
        "# Генеруємо HTML звіт\n",
        "    report.show_html(\"Germany_vs_France_report.html\")\n"
      ],
      "metadata": {
        "colab": {
          "base_uri": "https://localhost:8080/",
          "height": 434,
          "referenced_widgets": [
            "5740fb86928d47d0bc87ce0ae57e8f66",
            "947c5e53494041e58e45cdaef0d1db91",
            "82b268175ff94ad5be5069c5ad1cfa4c",
            "2fae558a1b4443bca0b2ab3719b4acbb",
            "7ec997bf6fb246d7b9351651737727f1",
            "bcda86ad0d4b45669a0fe62ac0ee50e3",
            "d2977917b8764a1886b46a33199e1403",
            "57980f9f56a941858da5bbf733ff61d2",
            "41f6f7ca55c747ad87f638564403f1ec",
            "8d0e9a06c4c346669112eba4fba5142c",
            "6baec7c41f824149a751adbcf604ec74"
          ]
        },
        "id": "ETnrdrj6QREB",
        "outputId": "80ab7301-2c14-46d2-d959-8d975456c880"
      },
      "id": "ETnrdrj6QREB",
      "execution_count": 37,
      "outputs": [
        {
          "output_type": "stream",
          "name": "stdout",
          "text": [
            "Requirement already satisfied: sweetviz in /usr/local/lib/python3.10/dist-packages (2.3.1)\n",
            "Requirement already satisfied: pandas!=1.0.0,!=1.0.1,!=1.0.2,>=0.25.3 in /usr/local/lib/python3.10/dist-packages (from sweetviz) (2.1.4)\n",
            "Requirement already satisfied: numpy>=1.16.0 in /usr/local/lib/python3.10/dist-packages (from sweetviz) (1.26.4)\n",
            "Requirement already satisfied: matplotlib>=3.1.3 in /usr/local/lib/python3.10/dist-packages (from sweetviz) (3.7.1)\n",
            "Requirement already satisfied: tqdm>=4.43.0 in /usr/local/lib/python3.10/dist-packages (from sweetviz) (4.66.5)\n",
            "Requirement already satisfied: scipy>=1.3.2 in /usr/local/lib/python3.10/dist-packages (from sweetviz) (1.13.1)\n",
            "Requirement already satisfied: jinja2>=2.11.1 in /usr/local/lib/python3.10/dist-packages (from sweetviz) (3.1.4)\n",
            "Requirement already satisfied: importlib-resources>=1.2.0 in /usr/local/lib/python3.10/dist-packages (from sweetviz) (6.4.5)\n",
            "Requirement already satisfied: MarkupSafe>=2.0 in /usr/local/lib/python3.10/dist-packages (from jinja2>=2.11.1->sweetviz) (2.1.5)\n",
            "Requirement already satisfied: contourpy>=1.0.1 in /usr/local/lib/python3.10/dist-packages (from matplotlib>=3.1.3->sweetviz) (1.3.0)\n",
            "Requirement already satisfied: cycler>=0.10 in /usr/local/lib/python3.10/dist-packages (from matplotlib>=3.1.3->sweetviz) (0.12.1)\n",
            "Requirement already satisfied: fonttools>=4.22.0 in /usr/local/lib/python3.10/dist-packages (from matplotlib>=3.1.3->sweetviz) (4.53.1)\n",
            "Requirement already satisfied: kiwisolver>=1.0.1 in /usr/local/lib/python3.10/dist-packages (from matplotlib>=3.1.3->sweetviz) (1.4.7)\n",
            "Requirement already satisfied: packaging>=20.0 in /usr/local/lib/python3.10/dist-packages (from matplotlib>=3.1.3->sweetviz) (24.1)\n",
            "Requirement already satisfied: pillow>=6.2.0 in /usr/local/lib/python3.10/dist-packages (from matplotlib>=3.1.3->sweetviz) (9.4.0)\n",
            "Requirement already satisfied: pyparsing>=2.3.1 in /usr/local/lib/python3.10/dist-packages (from matplotlib>=3.1.3->sweetviz) (3.1.4)\n",
            "Requirement already satisfied: python-dateutil>=2.7 in /usr/local/lib/python3.10/dist-packages (from matplotlib>=3.1.3->sweetviz) (2.8.2)\n",
            "Requirement already satisfied: pytz>=2020.1 in /usr/local/lib/python3.10/dist-packages (from pandas!=1.0.0,!=1.0.1,!=1.0.2,>=0.25.3->sweetviz) (2024.1)\n",
            "Requirement already satisfied: tzdata>=2022.1 in /usr/local/lib/python3.10/dist-packages (from pandas!=1.0.0,!=1.0.1,!=1.0.2,>=0.25.3->sweetviz) (2024.1)\n",
            "Requirement already satisfied: six>=1.5 in /usr/local/lib/python3.10/dist-packages (from python-dateutil>=2.7->matplotlib>=3.1.3->sweetviz) (1.16.0)\n"
          ]
        },
        {
          "output_type": "display_data",
          "data": {
            "text/plain": [
              "                                             |          | [  0%]   00:00 -> (? left)"
            ],
            "application/vnd.jupyter.widget-view+json": {
              "version_major": 2,
              "version_minor": 0,
              "model_id": "5740fb86928d47d0bc87ce0ae57e8f66"
            }
          },
          "metadata": {}
        },
        {
          "output_type": "stream",
          "name": "stdout",
          "text": [
            "Report Germany_vs_France_report.html was generated! NOTEBOOK/COLAB USERS: the web browser MAY not pop up, regardless, the report IS saved in your notebook/colab files.\n"
          ]
        }
      ]
    },
    {
      "cell_type": "markdown",
      "id": "07ae375a",
      "metadata": {
        "ExecuteTime": {
          "end_time": "2023-07-30T18:55:42.650457Z",
          "start_time": "2023-07-30T18:55:42.635729Z"
        },
        "id": "07ae375a"
      },
      "source": [
        "8.З допомогою ChatGPT виявіть, чи є та які помилки в наступному коді.  \n",
        "Попросіть після цього переписати код із дотриманням PEP8. Проаналізуйте результат. Чи справді ChatGPT виправив всі стилістичні помилки? Якщо ні, напишіть йому ще кілька запитів, аби код відповідав вимогам PEP8.  \n",
        "Вставте фінальну версію коду з чату у ноутбук та запустіть на заданому списку. Має вертатись 50.  \n",
        "Напишіть, які промпти (інструкції) при зверненні до ChatGPT ви застосували та додайте скріншот(-и) з промптами та відповідями чата.  \n",
        "Якщо зробили висновки при виконанні цього завдання, то діліться також :)\n",
        "\n",
        "**ЯК ВСТАВИТИ СКРІНШОТ в Jupyter Notebook** :\n",
        "1. Створіть нову Markdown клітинку\n",
        "2. В новоствореній клітинці обираєте в меню Jupyter Notebook Edit -> Insert Image\n",
        "3. Обираєте картинку\n",
        "4. В клітинці має зʼявитись текст, який містить картинку. Запустіть клітинку.\n",
        "\n",
        "Або можна просто перетягнути картинку в Markdown клітинку."
      ]
    },
    {
      "cell_type": "markdown",
      "source": [],
      "metadata": {
        "id": "mC2S_JvYk7tP"
      },
      "id": "mC2S_JvYk7tP"
    },
    {
      "cell_type": "markdown",
      "source": [],
      "metadata": {
        "id": "-M0rSRidlX-C"
      },
      "id": "-M0rSRidlX-C"
    },
    {
      "cell_type": "code",
      "execution_count": 40,
      "id": "a5c010c4",
      "metadata": {
        "ExecuteTime": {
          "end_time": "2023-07-30T19:16:20.977219Z",
          "start_time": "2023-07-30T19:16:20.973688Z"
        },
        "id": "a5c010c4"
      },
      "outputs": [],
      "source": [
        "def CalculateVariance(nl):\n",
        "    sum_list = 0\n",
        "    for n in nl:\n",
        "        sum_list = sum_list + n\n",
        "    mean = sum_list / len(nl)\n",
        "    sum_squares = 0\n",
        "    for n in nl:\n",
        "        sum_squares = sum_squares + n**2\n",
        "    mean_squares = sum_squares / len(nl)\n",
        "    return mean_squares"
      ]
    },
    {
      "cell_type": "code",
      "execution_count": 41,
      "id": "24bb3f81",
      "metadata": {
        "ExecuteTime": {
          "end_time": "2023-07-30T19:16:09.201841Z",
          "start_time": "2023-07-30T19:16:09.199174Z"
        },
        "id": "24bb3f81"
      },
      "outputs": [],
      "source": [
        "input_list = [75, 80, 85, 90, 95]"
      ]
    },
    {
      "cell_type": "code",
      "source": [
        "def calculate_variance(numbers_list):\n",
        "    \"\"\"Обчислює дисперсію для елементів у списку.\"\"\"\n",
        "\n",
        "    # Обчислюємо середнє значення\n",
        "    mean = sum(numbers_list) / len(numbers_list)\n",
        "\n",
        "    # Обчислюємо суму квадратів відхилень\n",
        "    sum_squared_diff = sum((n - mean) ** 2 for n in numbers_list)\n",
        "\n",
        "    # Обчислюємо дисперсію\n",
        "    variance = sum_squared_diff / len(numbers_list)\n",
        "\n",
        "    return variance\n",
        "\n",
        "input_list = [75, 80, 85, 90, 95]\n",
        "\n",
        "# Виводимо результат\n",
        "variance_result = calculate_variance(input_list)\n",
        "print(variance_result)\n"
      ],
      "metadata": {
        "colab": {
          "base_uri": "https://localhost:8080/"
        },
        "id": "lqmFLcd5pltN",
        "outputId": "6bed3c7b-cd9c-43c4-ab49-6cec51b38171"
      },
      "id": "lqmFLcd5pltN",
      "execution_count": 45,
      "outputs": [
        {
          "output_type": "stream",
          "name": "stdout",
          "text": [
            "50.0\n"
          ]
        }
      ]
    },
    {
      "cell_type": "markdown",
      "source": [
        "Ось що було змінено в останній версії коду порівняно з першим варіантом:\n",
        "\n",
        "### 1. **Ім'я функції та змінних**:\n",
        "   - **Було**: `CalculateVariance(nl)`\n",
        "   - **Стало**: `calculate_variance(numbers_list)`\n",
        "   - Імена змінено відповідно до стандарту **snake_case**, що рекомендується в PEP8. Ім'я змінної `nl` змінено на більш зрозуміле `numbers_list`, а функція `CalculateVariance` стала `calculate_variance`.\n",
        "\n",
        "### 2. **Додано docstring**:\n",
        "   - Додано коротке пояснення для функції, що рекомендується стандартами PEP8.\n",
        "   \n",
        "   ```python\n",
        "   \"\"\"Обчислює дисперсію для елементів у списку.\"\"\"\n",
        "   ```\n",
        "\n",
        "### 3. **Обчислення середнього значення**:\n",
        "   - **Було**: вручну обчислювали середнє через цикл:\n",
        "     ```python\n",
        "     sum_list = 0\n",
        "     for n in nl:\n",
        "         sum_list = sum_list + n\n",
        "     mean = sum_list / len(nl)\n",
        "     ```\n",
        "   - **Стало**: використали вбудовану функцію `sum()`:\n",
        "     ```python\n",
        "     mean = sum(numbers_list) / len(numbers_list)\n",
        "     ```\n",
        "\n",
        "### 4. **Замість обчислення суми квадратів елементів, обчислюється дисперсія**:\n",
        "   - **Було**: обчислювали суму квадратів елементів:\n",
        "     ```python\n",
        "     sum_squares = 0\n",
        "     for n in nl:\n",
        "         sum_squares = sum_squares + n**2\n",
        "     mean_squares = sum_squares / len(nl)\n",
        "     return mean_squares\n",
        "     ```\n",
        "   - **Стало**: обчислено **дисперсію** — спочатку середнє значення, а потім сума квадратів відхилень від середнього:\n",
        "     ```python\n",
        "     sum_squared_diff = sum((n - mean) ** 2 for n in numbers_list)\n",
        "     variance = sum_squared_diff / len(numbers_list)\n",
        "     return variance\n",
        "     ```\n",
        "\n",
        "### 5. **Остаточне обчислення дисперсії**:\n",
        "   - Тепер функція повертає правильну дисперсію (50.0) замість суми квадратів елементів.\n",
        "\n",
        "### 6. **Виведення результату**:\n",
        "   - **Було**: результат не виводився.\n",
        "   - **Стало**: додано виведення результату через `print()`:\n",
        "     ```python\n",
        "     variance_result = calculate_variance(input_list)\n",
        "     print(variance_result)\n",
        "     ```\n",
        "\n",
        "### Результат:\n",
        "- В останній версії коду ми обчислюємо **дисперсію**, що є правильним підходом для даної задачі.\n",
        "- Код став більш читабельним, завдяки використанню відповідних імен змінних та вбудованих функцій, а також дотримання стандартів PEP8."
      ],
      "metadata": {
        "id": "DyUXtrRsqhPy"
      },
      "id": "DyUXtrRsqhPy"
    },
    {
      "cell_type": "markdown",
      "source": [
        "![Скриншот 13.09.24_00.02.19.png](data:image/png;base64,iVBORw0KGgoAAAANSUhEUgAAAbAAAAFmCAIAAACDS1hPAAAhSElEQVR42u2dPY/ctrqAtb6Jc84fMJBif4OBTbftbbYw4HSpUxqwawPzAxZIvQa2TJ3OBly4ue12XsC/YYsDbH9sJ7GdOzOiJH68L0nNUF8zz1PtjCSKpMRnSFHL9+Sff/6pevLXX3/9/ffffY8CAJgJ3285OTnxvj/pJURUCAAHw9qJDx8+tL/JFeJ6t0+fPu3QnQQAmC3rTuK///3vtquYJcSvX79+/vx56pwDAAzC2okPHjyocoT45cuXP//8c+oMAwAMyA8//PDdd98lhIgNAeBIePjwYUyI3759+/Tp09SZBAAYCVWI6+8/fvw4dfYAAMZDFeK6b7juIU6dPQCA8ZCFyPuGAHCECEJksAwAx4kgRLqHAHCc+EKkewgAR4svRF48BICjxRfi58+fv379OnWuAAAmwBfif//7373TvH/96+Nn77rPq7f/efFT+ay/v/rxSWWStv8G2A3/xr24/vD7z4/ETe22yDHORuf7Y2QhzdURYqHx8rq4r07N5R+06NxvUJLN/fTmaXMjbe+uyvJetynrmO3fZ/W9b/99tCyiuTpCLDO/7NwiM/4tAHDxrWd9zhSi9blyN9AQloEjxHX3cN1J3DdJ59L798Hm86X5uxtKZ45VrK/tXmiTrDo0d5JfWb/Z75zdtlvMDf1b9bLZ7CRrH+adTzqLXmS7YuojL67/7+mb/xXydLrefPe8Tc/puZhkzm+ac1yoXZrwjF6e6i/dUjVZ037Q7cJ1e+VUhbZ7+7Vy5eX0pftMu+/U0gR11qWSLcT2mNMeQlRy51SXVY2RmzBMKTixpmwtF04J3eL6TV1tktnNVWoW9tnUayht3Hx327Mv6gixyL/r3TvN170c96+vbs5fdMW7FVuv/en91VX1wmqvZ1INm8qQhehWvmMT4TI2N1tb4fbhwa3hjILalJwya0Xudgovm5cnp0a9/HlFt4p3L9zuQuO2irH+8+Wb6t1Z596gNoIr3dVlW9BIhStWaAuYc+W99M1uMSF611xvjUV7iI/sCxsZMiu1qN5R0ZtQqkmvarotwVDu1qkjsXHmCtG7L7Obq9YsUtdQuYX2FOLHjx/3XhP7PvuH0doUCtHqEYlJWzW8Tef6+vZZ6hgtg6EQnVu3zae/qy/7Jtd6ma0tdtfOvzV0IdaZvz579uZUueZuS3DuQvNBLcZGiNXTLu1tYi/vzqrLW0kFcjGjFa7UTJsjTTtpM0WEGJ5Uu0Bha79cCV3qDU4/Vjmmsvst2vAl0kDEOyp+E4o1GfygOjeTXKvatjwhBk0yt7lqzSJ5DZO3UC6OEAtMMev9EmuH7s6Sx6+roOjBOMv/8fzlTpaof/9UQhc2EKLcoM9vgkG2NwbujOOUWSzy1mQXF+/enUUE4WW4ycnpH+7tpd0p7m1o/hSeFXRPC15Wvz2/e2wddHP+4fSVKimhxqMVrju03i78mvpXXkg/2NWpaSmfSiJe1dj94mgPUT7GGyjIXUTtx1+7o/SrF6lJT4LN+aKtLpJUSohCk8xtrkqzSF5D9RbqTWEhRp7CmA+XzmBU7SHWN4/7VEvoIa7V0PZuxhCidu+Gv4HWCwZikdsrX11L3R1BiJubqM6Zcq6wxu378Oa8q0W5GLUQu3LWB3WnDS91GSG6su6Gc+KVjwhR7iH2FKLSmPKfIWrVI+8YEaK1KV4a6QhlzGUucfBoKrwwOwtRbJK5zVVpFqlrqBa8P2WFKD4O094+UoXoKEj4uhXieuj4zEqh2JBZGTwkRjfSzLpeZOun8pnvREmIT9eDDO15gTjAbw7dNID1jdj4MDJIa1pLVdfletiyOehUu8NKDZml+6B6rV358YbMeZu0DfpcRjzjYsLR0ohJCSO1+set86H2CCpa4ykhKk0yt7lqzSL5u68WvC9FhShcLDWv9RhnJQrRfmqnzDn5D2b1X07hGb84FWLdCetxhDBLETwh6h6ABw9yRNM7RfZGQY4TBSE6MxueEC/lKaDm2O1zwbtzVxZSMdruwzbX1UX1tP0g3mH5kypn8k+i1/K0Hx9vtrHEpMqtOktUSojenRZe5IxaFN/ViFw9ZWKyqZCb0+vbN50Pw5vTnVRRZ3F0IapNMru5as0icg1jM7J7TqrsI0Tx4UbHRTvz2b7M8rZ6YntDfu2mezZ0cf326ZsndlkvvTcR1KFEbL5e/mncnEp8h1R4E0J6fJUusnAv2U0+EKIyM14ns0n30s6Td12q2EsKtvyb/oM3Qar+5OovRYkVLkx4Ou/0+HezdOX99LuLEHntRnsPKCxNRIju7X2Rrh75daJ0LW5GlpeVPqcQXj219bnveV2uYn3WsFaVovt07/doTTK7uUaahXgNowWvphZi+unw/Onf5RZLN1aRIyOoXcsDy0NsfbEX4MoxbePOKHg/EKJQjgMSIj48CtJeGMqHCLFPzmZRZ/3LsSCDJO7zwZoBLIqF3dUTUvo9xMWzsFsn/hL45Yz/ix7GwZslhDgIEQDAgBABAAwIEQDAgBABAAwIEQDAgBABAAwIEQDAgBABAAwIEQDAgBABAAwIEQDAgBABAAwIEQDAgBABAAwIEQDAgBABAAwIEQDAgBABAAwIEQDAgBABAAwIEQDAgBABAAwIEQDAgBABAAwIEQDAgBABAAwIEQDAgBABAAwIEQDAgBABAAwIEQDAgBABAAyDCvH+9a+P3zz98PvPjzJ2fPauqlZv//Pip/FOW/zgIXh/9eOT2+sZZcgwu4oC2J85CHHT5KuoCjd7XHYfE96ciRC3lj8Ls9rTcBMIUcu5WFHnNxk7AyyDGQgxvte2cVa2EN5f/Xr3SyzN4YWYX7BQFWn9T0xm9Vm7zb5IAJnMXIg7NbW5CFE04uzlscn03fN0Bu06YPgMB0JpITZPA9dcXL99+uaJ1U6sge/FddeSzO5VOBROtjN7KN0d7B9m71WfeP3Nq1On09layjnYzp6c5eZb5+suK4H+rC9imd/U3Dq1zdeVnYSUoTbVD6evmo1uTYYVoFyOyvehqY3nd4/Nrt2eQUXZdmQMDcukqBDdplA3uKYFOWpwnoup2kv58P711c35i651316H/RV3xN0ckSnE91dX1QvLRGe2l+ychRZtdvWM2H2MZf7Zu0B2TWpyhtyqdjbJFaBeDq9/aAS8ss4j1XJQgwgRlklJIQbdoa7N+OOwrPFW7uDNP3n66VZuD9HLjNghiicXmMfZUcm8oxNtjO2a25146Y6Rj9Yvh5dDPzfWSd06YNAMB0FBIYb+ctqZPU285eI6Q4iJRiYOuXUPN+QL0cn4hdypdTPh5sUfJAe20TMf5k3NkK+99rNSAfrlELKodIUTPwoAS2Q8IarNRfdefAJi26pbR4lO20uIta9W1tBT6SEmerJt4vZZMzIf5E3P0A5CVC4HQoSjprAQ3WdH3Ugu1tmLbIu9g6c+ncsbMttf2zlvD67cbCWGzLGZY2Ol8xvXh8nMe9vu9QypQowMmdXfoJ2EyJAZDoKikyrbbs9KnFTxXyf0pgfUtuT2isyh2/cQHWHV5xJGnZE5BXcaIzzYdok/1SGNY+2Z4m7CpCnE3dnqsjoXJ8LVzFfuqfQM6UJUKkC9HMKkSpYQmVSBg6D0azfW06nV9j0Q5VGb96JHtHPhP6NbOVIwX72tniidLPlVlS6j6+82r5WIs8zdPt4rRE2izqj30s+hW4KVP+GUkflwhkbKUESIagUolyM8NEeIvHYDhwGLO4DLLm+OM2CGAwEhgkd/u83+v28AMkGIENBr0MsIGQ4IhAgAYECIAAAGhAgAYECIAAAGhAgAYECIAAAGhAgAYECIAAAGhAgAYDguIbImCwBEQIgjCdGJvsUyCACz5GiFmKTkCi7+CrR0TQFmCULUKChEYYFuFssCmCEzEGIYnzgZ8sSELW4O6FJYxW2nLtXv5eGXOzH28h4F1IIzA8CMmFqI3lr69UL2CSG2S+d7y1anB6OyEMU8JPpxYqQ9WZ1hQnQRAebJ1EIUO0v9ooTeykHdE2dLRqIqZi2ECLAUphZi09Vy+lb9hChHrxNREpLygBABjo/JhVhjnuEZJY0tRCkP5YbMPEMEWAozEeIGOQBopYRNLi9ENw8Fu3FS6LpIYHsAmIqphSjHZ84Jm2wOLyBEJUZ0wX6cXx7GywCzZHohdu+72APOnLDJVTEhynkIYi+XKSj/qAIwV6YWIgDAbDhMIdp9voYVsxgAEOcwhQgAsAMIEQDAgBABAAwIEQDAgBABAAwIEQDAgBABAAwIEQDAgBABAAwIEQDAMA8heksRDkrhqHcsXgNwOMxAiCMrBSECgMIMhLjs9aMRIsDhgBD3BCECHA4TC9FZp+vCXSO7ZuUv//q2erI+JHzcWG/9cPqqOVZZ7ytcFDv7mM1Ctf4ir17QgYKDcQAYm9n1ELeKbL20dUx13enrUl3XsN7qSFWUky/E3GO6MAZaRACECLBwZibEaMhOLwizkMytF4RAGon7Qsw9xlbdILGoAGBqZiZEPwBpZceoiz9s9LfmCrHvMd5nhAhwOCBEhAgAhpkJMTlkRogAMBgzE6I4qXJmzWXMWYhMqgAsnNkJsYrHakaIADAYMxAiAMA8QIgAAAaECABgQIgAAAaECABgQIgAAAaECABgQIgAAAaECABgQIgAAAaECABgQIgAAAaEmCK2wvahcAxlBMgAIaY4BlkcQxkBMkCIKXqtALvQkKrHUEaADBBiimOQxTGUESCDhQrRDt1cryHbhV7p9nDXga0DOjcHVG0KF/HxobqgrJ+H0z+sGNNqtNSjKeP60JfVb1HH5obFBhiLRQrRjcJydXP+Ii2LNqBzsx639TH6yEyRhZSHnEW9L4NvZQsstYx2mjlCzAmLDTAWSxSiOMBL956abV7DSw0X5YSUo4oNJ5dfxkwh5oTFBhiLJQqx7QHZfat+srDa+W6yEPNQtEkvtIy79oIL1x7ATixTiFua51urtjszqiyEPJSUxVLLaKeZ9wwRIcJ8WLAQt7RtyG/z9nBsOFm4eRioSS+zjAgRFsgShdg93/efeDkhnLvH9QPIQs5DubD1yy8jQoQFskwhdu+C2ANO6/vV9mWOAYeTWh78CV7KGAEhwtxYohABAAYBITY4/SHDxYH9T+8xlBFgDxAiAIABIQIAGBAiAIABIQIAGBAiAIABIQIAGBAiAIABIQIAGBAiAIABIQIAGBDirPFXax0sPuh46yqwggPMGIQ4a4YQ4jqdV6d+MkU0lZXD5kwV8Z9hfiDEWdPHU3nrFPqrbu9wov3ymozZAjAdCHHWFBei4sMCQhQ7nokiMXyGmTG5EOtm/Pbpmyf1ulTbRUe74CNhfCMTlMRetSqMYNzuPUTYXzs0Sp2kL4NgfenM8omnEu3h5eGXO3tdL31FL9Vanprkio5VqJNyYke3GBgR5sMshPjsnWl1jdnsj2di43HDiVxVL6zA6vIa+7Gwvz2iPzn9sObMCSHmlU9CFqKYh5weot6Li5rXjtuiVKibcqzmndQZNcO8mIUQrSbhPZd3JaBFnFOSGyTsr5hIsoeYLl/6bN3f8lFJuWjD5eyK1ivUOyhW827m6SLCrJijECtpfCV14rrRnLNVjrtUqvGZXp4zLO0nxEoZPwooJpHykBU4RfNhXkXrFSoIUav5MPiLmimAsVmSEOXRXi2HZngbC6ip26d/wGRzRGeKUYUo5SElxPikR0ZFVwgRDp7FCFFr7pH4ckMHdevO5aVsPzQbUIheeeNCTEwCZ70MM4AQGTLDrFiMEGvLVPbjt3ZCoz3CmcEYRojeDI7wdM2MZ1fDCVHOQyyxZEcso6KjFRpOqmQJkUkVmBfLEWLlBY2THiBeXG/ebxm0h2iPri+8eYMmEx+e3z0ecsis5cGbxHYrOT4wza5opULdYmYLkQ4izIvJhQjDk/vO9D7s1NfDhzAzEOIskGZ1Cr1GPtqwtLfdGC/D7ECIUIxey08MungPwG4gRAAAA0IEADAgRAAAA0IEADAgRAAAA0IEADAgRAAAA0IEADAgRAAAA0IEADAgxIPCWqbmgn+LA+gLQjwc/HVp4/GrACAAIR4MwrLdrCUD0IsZCHHEMMexCM6XTQ7eVk/ss+mh/sKMd5ndJOIF4nzn76nlZvdqDEKusNggQB+mFuKoYY7daANXN+cvgmil4fr/mhC7BKTgxSulq2blUc5NmOO86Fdhh5AuIkBfphbimGGORUOEX3pnywgG7UcX8WMSi4U5LesrhAiwP1MLcfwwx5duDytcXj9fiE7okSZVKQLfOy8fKzs0SpmVsREiwP5MLsSakcIcb2kUJT+vzBXiNsetxr0eoifEWHwnNzdKvXiI+/IMEWBvZiLEDSOEOe5o9wxWso+czRoO6yfeJdZfCXf5eSUEPEBvphbimGGO/WmQLsZ6F4bYPZs7T1N31+peoTcZZM2jiD21y65T1+RCzs1+denWGuNlgJ5ML8Txwhw7j/PsYaf7/x3W2dxtq7cfTl9Zs8zWButVHSkPzsh3Zc+XC7kpU538owpAf6YW4gzh2RvAsXKYQtwrzDFCBDhWDlOIe4EQAY4VhBiAEAGOFYQIAGBAiAAABoQIAGBAiAAABoQIAGBAiAAABoQIAGBAiAAAhnkI0V0OcVgKx6NjWRmAw2EGQhxZKQgRABRmIMRl/6scQgQ4HBDiniBEgMNhYiE663RJUYztVbukiMduUtV2Cdd22VZRsrbBeh6zWTrWX37VSq7wYBwAxmZ2PUR3wX1nff8g4nGQjBcaXpSTL8TcY6zAAspa/QgRYOHMTIjRYJpBPKggGS8esjgS94WYe4ytOs+CDJkBDoOZCTEMCmpFj4s/bMyNdhcOmfsd431GiACHA0JEiABgmJkQk0NmhAgAgzEzIYqTKnZc5DkLkUkVgIUzOyFW8VjNCBEABmMGQgQAmAcIEQDAgBABAAwIEQDAgBABAAwIEQDAgBABAAwIEQDAgBABAAwIEQDAgBABAAwIEQDAgBABAAwIEWAM3l/9eHPurYR0//rXl9Vv1lqaTtC1FQsnjQ9CBBgUsyrch9Obm/Pzu8d1EJ+7OprP87s/ql82QR+3q8bdv766OX9h9BiPIAQDgRABhsd0/ZxOn4nleKFYj7XYp2ChQrRDN9c3VBd6pdvDXQe2DujcHFC1KVykfobtcUx3R1tZuLh++/TNE+tsTlwYZ9XZMOPWPm7Iaeu0/jK5YW5Gqsk9q1LJu/X1apu2qa6Ba1JJQcl4MN4VKlKJ3W3Gxs+fvnllD5C3ia5zqqSMEKdgkUJ0o7DUw4yUENuAzk3rsD7GRiaeDq6qF5uj3MWx3fDOsWbcJiBER7j0HVHZ6d+2sgpzE+a4aecdcovvW5P7VKWSd+coNwD2kDUpFj12x+UIUY/dXT8qtJ8ZtkkqaePDSViiEMVbJd1DdLp2Z87HyI0nRhUIvvTOpvdrlGJ4LlELcxeNojB8Te5TlWI9hIdYuw1Zk1Uv3+QKUY7dvQNuaCEYjSUKUXwi00+I1p2aunGFJz3+uXoJ0ZlItAd12j7OronnTkPX5F5VKeU9jDubL8T9alJ8rCdmWD5c2lmJu7PLNSl2haEXyxTiluZ2re/owYRYY1qP/JQtV4h1jlftOE2NdiWEp9Zzo9WLy8V10vkZNVmgKt287yjEYjXpFj2W6cxniHsKcZufChlOxoKFuKW9//37zx46FRCis2cVhNfTz2YNpSInFo5J5an0M6asmixUld2OwXNHe+Q5Uk0mwjmaPUYQImEbp2eJQrQfgXudBvfR+kUBIXoP782e7iMe92z+8/TuUbv7HH+zQRnoBR2FJhdybsaryX2qUs67W9L4zETJmpSLrjGKEMOBB4zOMoVojQlXXg/infn2w+mrIkNmLUi0+66IfTZn28X19kWMytFLvcF7Vcdvkk4phRdISjxH7F2T+wlRybvzApNTXQPWpFb0vepyPyFKzzv5d5WRWaIQZwjvSBQj3V0DGAyE2CDNRWR3whCijdTVye7pIESYEIRYBIRYDIQIE4IQi4AQi4EQYUIQIgCAASECABgQIgCAASECABgQIgCAASECABgQIgCAASECABgQIkCC0d4V56X0yUGIAB3igrJFPJUTVrQ9ETFIpwIhAjQoKxIWEGJeEtZe/DPoNCBEAIO2Quv+QkxFMpBOxPh5CiYXYv1LuFnis157a9WMGOr1o9xVo/oF2K3vqM36pu1ip/HbSw4brEUNjsYeiaTlRw1WStUjanAWYYZGD2VdsiZ7BGDOrUnVWnrgqsy7zUk5sqN7Iow4AbMQYrsAfHPr2h/PxF9MN4hJLESvs0RyJGCFHDY4EjU41oz9BepvnRZri1kpVU7U4B7RpMTCjRvKunBNZgdgzo6/rPfi3HjQ6l2o3m1uyvEd9fXIYQxmIURv8f1b/2c3GQtOTs5vuPFfXGlrNGpwZo78OHJOlrQ0zm8GiiDl19VYoayL12RuAObcmowFNMm6C/W7zTsoclsKXVG6iOMyRyGKt0QkwG6VF6I3dX8JYYOjQTITzdjtv63EOz5SqnTU4N7V7MdEHjOUdfGazA/AnFWT0QBPWXehfrcJQlRuSyFkIFGnxmVJQpQHNNkhevN+cJ2wwbs2YzfUuH7Hpx62x6MG9w/A7MZEHjOUdfGa7BmAORF/OX50xl1YIcTDYDFC1Bphfoje/BFIm8hdLGqwHr9YH/lIQTJTaik8cOpOOWYo6+I1uUsAZrUmEzZN34XVIEJkyDw+ixFiJFRxboje1DNEIWxwNGqwOoPjzSp40xNOFpRS9YsanCYSE3mkUNalazI3AHNGTSY7Yhl3Ycpz3qRKlhCZVJmA5QixUgLs5ofoTU+qSGGDY1GD1fjFzgbrBRNtvsEvVemowRmFGz6UddGazA3AnK7J9MA0+y5U7rbwNaIsIdJBnIDJhbgwuElLMZeazHxnei926uvNpYKOiyMUIlGDi7FPVc6jJscalvYuLePlaThCIe7FPJrxIXBsNdlrvQYWd5gKhNiPY2vGw0FNwgxBiAAABoQIAGBAiAAABoQIAGBAiAAABoQIAGBAiAAABoQIAGBAiAAABoQIAGBYkBD5d3cAGBaECABgmFyITlxmKyxlswRnF0K4Cx/SRgnOiSrc7rzeuFmU9LJLQlsHPjMccZjNLpEwkPB9Zhak1L3wv6ViG+fVfaxQAIfFLITYrfpfeS05EnkjO6pwdxZn+XlxdaX8cMSRbMqBhHOz0GUkjCZcOLZxdt3LkZYBDo55CPHMCRrgLGCsBvhJCVENaeTvbJMdjljPppZebhb0jcVjG2fXPUt1wZEwCyGqMXgNq12EGMRysvWQL0Q5lEgkm0EhVmIHNzMwiTdqLRvbuF/d+2GdAQ6POQpRifgzNyHK2VQDCfcUYrtPF024eGzj/Lq3ypZ8+AmwXOYmxMhCyonQb3pU4aq8ENVsxsOo9hWim0b0QcAusY3z616/XgCHxOyEWHdD7JnQdkJACE2eFVW4GkCIWjb1QMK9hChHEy4d2zi77uWwzgAHx/yEWHnB3MK54tZ7mVGFqyGEqGZTCyTcU4hKNOGisY2z616LtAxwYEwuRNgDZn8BioIQJ0aa2s3uhCFEgKIgxCWDEAGKghCXDEIEKApCBAAwIEQAAANCBAAwIEQAAANCBAAwIEQAAANCBAAwIEQAAANCBAAwIEQAAANCBAAwIEQAAANCBAAwIEQAAANCBAAwIEQAAANCBAAwIEQAAANCBAAwIEQAAANCBAAwIEQAAANCBAAwIEQAAANCBAAwIEQAAANCBAAwIEQAAANCBAAwIEQAAANCBAAwIEQAAENRIb6/+vHJ7fWH339+NFFp7l//+vjN0zoDm7+fnb39z4ufJsoMACwNhFjqvM/erf+4uP7w/O7xk0t/h4umVjZVdCl8n5N4sLu+pWdS1vdbVulqsw/xdrfKmJFQJCkxW3ZdT3enwYGyoCGzbbvdd7HYNNyqiDFj53XPsv706rRHQ7a17ipe39I7qe3Hu+f5NeEc7v4M2p9yfiAjScWy1bceAbJAiMMK0dvSL4PB/laOvcynE9aT6l0T/u7dZz8byYT1pOJHI0QYhOJDZqe9fjh91Yx5VnYnabPX+U0zsLLGPv593qR46gye1MGSP2Ru26Y9+NoefecMXbNGdhFUHflNepeumGixwBVJ9SSE2Ecvwe7NF5VfD0lPq0k9imcLIcIgOEL8+PGj/bE3nhAvW3MF46LLTkLbbVU3yBKF2OzYo4do/e2mcnVz/qJ9nqc6xH9+VaOoWMla+LXzCDHrIZg1irRqMUw5o3bkpIKypn8dJM1vU6uCGk15Wk3qp3i2ECIMgiPET58+ffv2bffEPCHaj48imzx1lReiduDQQ+Z4d9D5IUhWa23Rla2w3kKUk5L2SDnR2cl4a7WTENWkforsViFEGAhHiH/++eeXL192T0x/xBXb5I0EB+gh+p1SIfH9ELOWTj4jA84uXfdpFyEqSeUVRkytfeLx/O7x9rLd9ReillTiaSxChEFwhPjXX3/9/fffuyc2WyG2GzcjsFXGM/sCQ+a+ttMy4fQx2xPd9X2GqCf1SNizz8SPlfZ972eIyWwq2UKIMAiOENfdw3UncffEdhRifO607cfsK0T/XMP2EDMS79mpcw7xpy+SszV6UqmJoD0vey9vxeeV93h9CSCLE28WZa+J5nwhXnqvKju9tlt7KuZdZo9ui/YMsZ1H6dvlzESePQnzaufEeYao+UyY/KiEl/yc8yuuiCZ1Vb2w3gFoL4emnfvXr+9+/lkaewfTZ6mZbD0pPVsVQoSB8IX4+fPnr1+/7phYnx7i2+qJ/O8M/hMlK5lmGNvztRtn9Lvy+6aX1QCv3USmnaV501j/zjnGLblTVdqbSxlJaXPfalLBW0yP5I0ZBoskFZuSR4gwCL4Q9x01Z1BupDob9u1rrqvk5rxMjayz8rL6rYgpCiZVNK0NCBEGwRfi+uPHjx8HPWUJIXr/Erxl327eHuwpxPXhf5z+Xibz769+vfuljCgKJlU0rTo9hAgDcBK+ib3vXHOKA+0hsuDAOFDXMCAn4r+m7PsvK1EOUIgAcBDIQlz3ENf9xKnzBgAwKidaT3Dff+MDAFgaqhDX36+dONzAGQBgbpxElLfuIa6dOHUOAQBG4iTeBxzhtUQAgDnwww8/nCQHxTgRAA6etQ2/++67tBArxs4AcLicnJz861//evDgQZUcMresd/v8+TPzzgBwSKw9uLbh2on1x1wh1vB+IgAcDA8fPvz+++/tb/oJsWbo/+0DABiUtQfXNgy/30WI1XYE/eXLl69bpi4aAEAW/7NlM3nSjJE9dhSiTa3Ff7Z8+/aNd7kBYA6srffgwYOTLbUK04fgLwCAGoQIAGBAiAAABoQIAGD4f//LATMOrZNkAAAAAElFTkSuQmCC)"
      ],
      "metadata": {
        "id": "yUynuRusq0EB"
      },
      "id": "yUynuRusq0EB"
    },
    {
      "cell_type": "markdown",
      "source": [
        "![Скриншот 13.09.24_00.03.49.png](data:image/png;base64,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)"
      ],
      "metadata": {
        "id": "HOftPUJhSSqh"
      },
      "id": "HOftPUJhSSqh"
    },
    {
      "cell_type": "markdown",
      "source": [
        "![Скриншот 13.09.24_00.05.13.png](data:image/png;base64,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)"
      ],
      "metadata": {
        "id": "MLHS9qHcSbnQ"
      },
      "id": "MLHS9qHcSbnQ"
    },
    {
      "cell_type": "markdown",
      "source": [
        "![Скриншот 13.09.24_00.06.09.png](data:image/png;base64,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)"
      ],
      "metadata": {
        "id": "Fa-dB9QxSlb7"
      },
      "id": "Fa-dB9QxSlb7"
    },
    {
      "cell_type": "markdown",
      "source": [
        "![Скриншот 13.09.24_00.12.10.png](data:image/png;base64,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)"
      ],
      "metadata": {
        "id": "2GNCeVRSS5_x"
      },
      "id": "2GNCeVRSS5_x"
    },
    {
      "cell_type": "markdown",
      "source": [
        "![Скриншот 13.09.24_00.07.03.png](data:image/png;base64,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)"
      ],
      "metadata": {
        "id": "PcmSraZBS_ex"
      },
      "id": "PcmSraZBS_ex"
    },
    {
      "cell_type": "markdown",
      "source": [
        "**Висновок**"
      ],
      "metadata": {
        "id": "gjlzl5afVP_p"
      },
      "id": "gjlzl5afVP_p"
    },
    {
      "cell_type": "markdown",
      "source": [
        "З цього завдання можна зробити такий висновок, що не завжди чат GPT видає одразу правильну відповідь або пише оптимальний код. Треба перевіряти та перепитувати, тоді він може змінити або розширити відповідь."
      ],
      "metadata": {
        "id": "1Nk43TmvUPcy"
      },
      "id": "1Nk43TmvUPcy"
    }
  ],
  "metadata": {
    "kernelspec": {
      "display_name": "Python 3 (ipykernel)",
      "language": "python",
      "name": "python3"
    },
    "language_info": {
      "codemirror_mode": {
        "name": "ipython",
        "version": 3
      },
      "file_extension": ".py",
      "mimetype": "text/x-python",
      "name": "python",
      "nbconvert_exporter": "python",
      "pygments_lexer": "ipython3",
      "version": "3.10.4"
    },
    "toc": {
      "base_numbering": 1,
      "nav_menu": {},
      "number_sections": true,
      "sideBar": true,
      "skip_h1_title": false,
      "title_cell": "Table of Contents",
      "title_sidebar": "Contents",
      "toc_cell": false,
      "toc_position": {},
      "toc_section_display": true,
      "toc_window_display": false
    },
    "colab": {
      "provenance": [],
      "include_colab_link": true
    },
    "widgets": {
      "application/vnd.jupyter.widget-state+json": {
        "5740fb86928d47d0bc87ce0ae57e8f66": {
          "model_module": "@jupyter-widgets/controls",
          "model_name": "HBoxModel",
          "model_module_version": "1.5.0",
          "state": {
            "_dom_classes": [],
            "_model_module": "@jupyter-widgets/controls",
            "_model_module_version": "1.5.0",
            "_model_name": "HBoxModel",
            "_view_count": null,
            "_view_module": "@jupyter-widgets/controls",
            "_view_module_version": "1.5.0",
            "_view_name": "HBoxView",
            "box_style": "",
            "children": [
              "IPY_MODEL_947c5e53494041e58e45cdaef0d1db91",
              "IPY_MODEL_82b268175ff94ad5be5069c5ad1cfa4c",
              "IPY_MODEL_2fae558a1b4443bca0b2ab3719b4acbb"
            ],
            "layout": "IPY_MODEL_7ec997bf6fb246d7b9351651737727f1"
          }
        },
        "947c5e53494041e58e45cdaef0d1db91": {
          "model_module": "@jupyter-widgets/controls",
          "model_name": "HTMLModel",
          "model_module_version": "1.5.0",
          "state": {
            "_dom_classes": [],
            "_model_module": "@jupyter-widgets/controls",
            "_model_module_version": "1.5.0",
            "_model_name": "HTMLModel",
            "_view_count": null,
            "_view_module": "@jupyter-widgets/controls",
            "_view_module_version": "1.5.0",
            "_view_name": "HTMLView",
            "description": "",
            "description_tooltip": null,
            "layout": "IPY_MODEL_bcda86ad0d4b45669a0fe62ac0ee50e3",
            "placeholder": "​",
            "style": "IPY_MODEL_d2977917b8764a1886b46a33199e1403",
            "value": "Done! Use &#x27;show&#x27; commands to display/save.   "
          }
        },
        "82b268175ff94ad5be5069c5ad1cfa4c": {
          "model_module": "@jupyter-widgets/controls",
          "model_name": "FloatProgressModel",
          "model_module_version": "1.5.0",
          "state": {
            "_dom_classes": [],
            "_model_module": "@jupyter-widgets/controls",
            "_model_module_version": "1.5.0",
            "_model_name": "FloatProgressModel",
            "_view_count": null,
            "_view_module": "@jupyter-widgets/controls",
            "_view_module_version": "1.5.0",
            "_view_name": "ProgressView",
            "bar_style": "success",
            "description": "",
            "description_tooltip": null,
            "layout": "IPY_MODEL_57980f9f56a941858da5bbf733ff61d2",
            "max": 1,
            "min": 0,
            "orientation": "horizontal",
            "style": "IPY_MODEL_41f6f7ca55c747ad87f638564403f1ec",
            "value": 1
          }
        },
        "2fae558a1b4443bca0b2ab3719b4acbb": {
          "model_module": "@jupyter-widgets/controls",
          "model_name": "HTMLModel",
          "model_module_version": "1.5.0",
          "state": {
            "_dom_classes": [],
            "_model_module": "@jupyter-widgets/controls",
            "_model_module_version": "1.5.0",
            "_model_name": "HTMLModel",
            "_view_count": null,
            "_view_module": "@jupyter-widgets/controls",
            "_view_module_version": "1.5.0",
            "_view_name": "HTMLView",
            "description": "",
            "description_tooltip": null,
            "layout": "IPY_MODEL_8d0e9a06c4c346669112eba4fba5142c",
            "placeholder": "​",
            "style": "IPY_MODEL_6baec7c41f824149a751adbcf604ec74",
            "value": " [100%]   00:01 -&gt; (00:00 left)"
          }
        },
        "7ec997bf6fb246d7b9351651737727f1": {
          "model_module": "@jupyter-widgets/base",
          "model_name": "LayoutModel",
          "model_module_version": "1.2.0",
          "state": {
            "_model_module": "@jupyter-widgets/base",
            "_model_module_version": "1.2.0",
            "_model_name": "LayoutModel",
            "_view_count": null,
            "_view_module": "@jupyter-widgets/base",
            "_view_module_version": "1.2.0",
            "_view_name": "LayoutView",
            "align_content": null,
            "align_items": null,
            "align_self": null,
            "border": null,
            "bottom": null,
            "display": "inline-flex",
            "flex": null,
            "flex_flow": "row wrap",
            "grid_area": null,
            "grid_auto_columns": null,
            "grid_auto_flow": null,
            "grid_auto_rows": null,
            "grid_column": null,
            "grid_gap": null,
            "grid_row": null,
            "grid_template_areas": null,
            "grid_template_columns": null,
            "grid_template_rows": null,
            "height": null,
            "justify_content": null,
            "justify_items": null,
            "left": null,
            "margin": null,
            "max_height": null,
            "max_width": null,
            "min_height": null,
            "min_width": null,
            "object_fit": null,
            "object_position": null,
            "order": null,
            "overflow": null,
            "overflow_x": null,
            "overflow_y": null,
            "padding": null,
            "right": null,
            "top": null,
            "visibility": null,
            "width": "100%"
          }
        },
        "bcda86ad0d4b45669a0fe62ac0ee50e3": {
          "model_module": "@jupyter-widgets/base",
          "model_name": "LayoutModel",
          "model_module_version": "1.2.0",
          "state": {
            "_model_module": "@jupyter-widgets/base",
            "_model_module_version": "1.2.0",
            "_model_name": "LayoutModel",
            "_view_count": null,
            "_view_module": "@jupyter-widgets/base",
            "_view_module_version": "1.2.0",
            "_view_name": "LayoutView",
            "align_content": null,
            "align_items": null,
            "align_self": null,
            "border": null,
            "bottom": null,
            "display": null,
            "flex": null,
            "flex_flow": null,
            "grid_area": null,
            "grid_auto_columns": null,
            "grid_auto_flow": null,
            "grid_auto_rows": null,
            "grid_column": null,
            "grid_gap": null,
            "grid_row": null,
            "grid_template_areas": null,
            "grid_template_columns": null,
            "grid_template_rows": null,
            "height": null,
            "justify_content": null,
            "justify_items": null,
            "left": null,
            "margin": null,
            "max_height": null,
            "max_width": null,
            "min_height": null,
            "min_width": null,
            "object_fit": null,
            "object_position": null,
            "order": null,
            "overflow": null,
            "overflow_x": null,
            "overflow_y": null,
            "padding": null,
            "right": null,
            "top": null,
            "visibility": null,
            "width": null
          }
        },
        "d2977917b8764a1886b46a33199e1403": {
          "model_module": "@jupyter-widgets/controls",
          "model_name": "DescriptionStyleModel",
          "model_module_version": "1.5.0",
          "state": {
            "_model_module": "@jupyter-widgets/controls",
            "_model_module_version": "1.5.0",
            "_model_name": "DescriptionStyleModel",
            "_view_count": null,
            "_view_module": "@jupyter-widgets/base",
            "_view_module_version": "1.2.0",
            "_view_name": "StyleView",
            "description_width": ""
          }
        },
        "57980f9f56a941858da5bbf733ff61d2": {
          "model_module": "@jupyter-widgets/base",
          "model_name": "LayoutModel",
          "model_module_version": "1.2.0",
          "state": {
            "_model_module": "@jupyter-widgets/base",
            "_model_module_version": "1.2.0",
            "_model_name": "LayoutModel",
            "_view_count": null,
            "_view_module": "@jupyter-widgets/base",
            "_view_module_version": "1.2.0",
            "_view_name": "LayoutView",
            "align_content": null,
            "align_items": null,
            "align_self": null,
            "border": null,
            "bottom": null,
            "display": null,
            "flex": "2",
            "flex_flow": null,
            "grid_area": null,
            "grid_auto_columns": null,
            "grid_auto_flow": null,
            "grid_auto_rows": null,
            "grid_column": null,
            "grid_gap": null,
            "grid_row": null,
            "grid_template_areas": null,
            "grid_template_columns": null,
            "grid_template_rows": null,
            "height": null,
            "justify_content": null,
            "justify_items": null,
            "left": null,
            "margin": null,
            "max_height": null,
            "max_width": null,
            "min_height": null,
            "min_width": null,
            "object_fit": null,
            "object_position": null,
            "order": null,
            "overflow": null,
            "overflow_x": null,
            "overflow_y": null,
            "padding": null,
            "right": null,
            "top": null,
            "visibility": null,
            "width": null
          }
        },
        "41f6f7ca55c747ad87f638564403f1ec": {
          "model_module": "@jupyter-widgets/controls",
          "model_name": "ProgressStyleModel",
          "model_module_version": "1.5.0",
          "state": {
            "_model_module": "@jupyter-widgets/controls",
            "_model_module_version": "1.5.0",
            "_model_name": "ProgressStyleModel",
            "_view_count": null,
            "_view_module": "@jupyter-widgets/base",
            "_view_module_version": "1.2.0",
            "_view_name": "StyleView",
            "bar_color": null,
            "description_width": ""
          }
        },
        "8d0e9a06c4c346669112eba4fba5142c": {
          "model_module": "@jupyter-widgets/base",
          "model_name": "LayoutModel",
          "model_module_version": "1.2.0",
          "state": {
            "_model_module": "@jupyter-widgets/base",
            "_model_module_version": "1.2.0",
            "_model_name": "LayoutModel",
            "_view_count": null,
            "_view_module": "@jupyter-widgets/base",
            "_view_module_version": "1.2.0",
            "_view_name": "LayoutView",
            "align_content": null,
            "align_items": null,
            "align_self": null,
            "border": null,
            "bottom": null,
            "display": null,
            "flex": null,
            "flex_flow": null,
            "grid_area": null,
            "grid_auto_columns": null,
            "grid_auto_flow": null,
            "grid_auto_rows": null,
            "grid_column": null,
            "grid_gap": null,
            "grid_row": null,
            "grid_template_areas": null,
            "grid_template_columns": null,
            "grid_template_rows": null,
            "height": null,
            "justify_content": null,
            "justify_items": null,
            "left": null,
            "margin": null,
            "max_height": null,
            "max_width": null,
            "min_height": null,
            "min_width": null,
            "object_fit": null,
            "object_position": null,
            "order": null,
            "overflow": null,
            "overflow_x": null,
            "overflow_y": null,
            "padding": null,
            "right": null,
            "top": null,
            "visibility": null,
            "width": null
          }
        },
        "6baec7c41f824149a751adbcf604ec74": {
          "model_module": "@jupyter-widgets/controls",
          "model_name": "DescriptionStyleModel",
          "model_module_version": "1.5.0",
          "state": {
            "_model_module": "@jupyter-widgets/controls",
            "_model_module_version": "1.5.0",
            "_model_name": "DescriptionStyleModel",
            "_view_count": null,
            "_view_module": "@jupyter-widgets/base",
            "_view_module_version": "1.2.0",
            "_view_name": "StyleView",
            "description_width": ""
          }
        }
      }
    }
  },
  "nbformat": 4,
  "nbformat_minor": 5
}