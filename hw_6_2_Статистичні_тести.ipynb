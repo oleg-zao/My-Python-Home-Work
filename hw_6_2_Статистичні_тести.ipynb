{
  "cells": [
    {
      "cell_type": "markdown",
      "metadata": {
        "id": "view-in-github",
        "colab_type": "text"
      },
      "source": [
        "<a href=\"https://colab.research.google.com/github/oleg-zao/My-Python-Home-Work/blob/main/hw_6_2_%D0%A1%D1%82%D0%B0%D1%82%D0%B8%D1%81%D1%82%D0%B8%D1%87%D0%BD%D1%96_%D1%82%D0%B5%D1%81%D1%82%D0%B8.ipynb\" target=\"_parent\"><img src=\"https://colab.research.google.com/assets/colab-badge.svg\" alt=\"Open In Colab\"/></a>"
      ]
    },
    {
      "cell_type": "markdown",
      "id": "e152f6d6",
      "metadata": {
        "ExecuteTime": {
          "end_time": "2022-12-10T14:29:24.703416Z",
          "start_time": "2022-12-10T14:29:24.688485Z"
        },
        "id": "e152f6d6"
      },
      "source": [
        "## Домашнє завдання 6: Статистичні тести"
      ]
    },
    {
      "cell_type": "markdown",
      "id": "cd404683",
      "metadata": {
        "id": "cd404683"
      },
      "source": [
        "0. Зчитайте дані з `data.csv` та запишіть значення колонки data у форматі np.ndarray в змінну data. Ми будемо далі працювати з цією змінною."
      ]
    },
    {
      "cell_type": "code",
      "source": [
        "from google.colab import drive\n",
        "drive.mount('/content/drive')"
      ],
      "metadata": {
        "id": "zYS36zi_kV4J",
        "outputId": "549a41ea-1348-462e-eed5-de9201e209c9",
        "colab": {
          "base_uri": "https://localhost:8080/"
        }
      },
      "id": "zYS36zi_kV4J",
      "execution_count": 11,
      "outputs": [
        {
          "output_type": "stream",
          "name": "stdout",
          "text": [
            "Drive already mounted at /content/drive; to attempt to forcibly remount, call drive.mount(\"/content/drive\", force_remount=True).\n"
          ]
        }
      ]
    },
    {
      "cell_type": "code",
      "source": [
        "import pandas as pd\n",
        "\n",
        "drive.mount('/content/drive')\n",
        "\n",
        "file_path = '/content/drive/My Drive/data.csv'\n",
        "\n",
        "dataframe = pd.read_csv(file_path)"
      ],
      "metadata": {
        "id": "a8M1Xqa3hInl",
        "outputId": "7007aaea-ca49-40fa-86a3-a13428d14126",
        "colab": {
          "base_uri": "https://localhost:8080/"
        }
      },
      "id": "a8M1Xqa3hInl",
      "execution_count": 14,
      "outputs": [
        {
          "output_type": "stream",
          "name": "stdout",
          "text": [
            "Drive already mounted at /content/drive; to attempt to forcibly remount, call drive.mount(\"/content/drive\", force_remount=True).\n"
          ]
        }
      ]
    },
    {
      "cell_type": "code",
      "source": [
        "# Витягування колонки 'data' та перетворення у np.ndarray\n",
        "data = dataframe['data'].to_numpy()"
      ],
      "metadata": {
        "id": "YiFOlOSSQh3J"
      },
      "id": "YiFOlOSSQh3J",
      "execution_count": 13,
      "outputs": []
    },
    {
      "cell_type": "markdown",
      "id": "3d06cbbf",
      "metadata": {
        "id": "3d06cbbf"
      },
      "source": [
        "Запустіть код нижче. Для коректної робити всіх подальших методів дані мають бути у вигляді одновимірного вектора, тобто мати розмір (100,)."
      ]
    },
    {
      "cell_type": "code",
      "source": [
        "data.shape"
      ],
      "metadata": {
        "id": "Rc_cM9TfhJYI",
        "outputId": "f5629d3e-b8ef-49f7-95e3-b829f0bc5f58",
        "colab": {
          "base_uri": "https://localhost:8080/"
        }
      },
      "id": "Rc_cM9TfhJYI",
      "execution_count": 15,
      "outputs": [
        {
          "output_type": "execute_result",
          "data": {
            "text/plain": [
              "(100,)"
            ]
          },
          "metadata": {},
          "execution_count": 15
        }
      ]
    },
    {
      "cell_type": "code",
      "source": [
        "# Перевірка форми і типу даних\n",
        "print(f\"Форма даних: {data.shape}\")\n",
        "print(data)"
      ],
      "metadata": {
        "id": "wSpW9gT24lVp",
        "outputId": "b3c40808-fa99-47bb-c15a-dd7a4da384e2",
        "colab": {
          "base_uri": "https://localhost:8080/"
        }
      },
      "id": "wSpW9gT24lVp",
      "execution_count": 16,
      "outputs": [
        {
          "output_type": "stream",
          "name": "stdout",
          "text": [
            "Форма даних: (100,)\n",
            "[17.49945292 19.66239904  7.18282343 29.84162485  9.23938649 14.94951581\n",
            " 23.0172885  12.52827148 13.65228669 14.54595431 23.30872427 33.75324808\n",
            " 20.24923636 13.29244733 23.23434992 16.4230418  19.88521702 27.05000732\n",
            " 15.5127743  20.05415151 14.73135264 19.06139498 21.53942271 14.06732571\n",
            " 17.9670682  18.58289581 16.17406993 12.87432628 11.47269664 19.07902883\n",
            " 18.38565824 33.38820073  5.39139454 20.67635903 22.22266722 28.15780318\n",
            " 23.01114324 14.93471778 20.00005857 23.25411543 18.11895082 24.62607043\n",
            "  8.79145607 30.387108   28.80606806 17.98593597 23.66804468 20.28782355\n",
            " 15.02518827 20.52626131 26.00219532 17.71344489 17.74598346 19.55317542\n",
            " 22.60097798 27.67027538 16.19192417 23.05037746 21.29669604  8.84832568\n",
            " 17.48410111 19.20602661 19.76257856 21.9560206   7.75806171 20.27753314\n",
            " 15.93394654 11.36336584 23.14577858 24.41167746 16.08049839 25.05473769\n",
            " 17.71090111 20.39893405 13.40756632 29.50692234  4.04330326 19.45128426\n",
            " 24.17071763  7.79920072 18.86318441 19.53668801 24.94821803 27.48927752\n",
            " 17.57664638 11.692888   28.20341254 27.3073138  17.22796791 22.10533096\n",
            " 22.2911974  23.39765265 21.22524787 28.44017745  9.57224297 26.24494372\n",
            " 22.28283182 18.69718839 27.04118899  5.93838085]\n"
          ]
        }
      ]
    },
    {
      "cell_type": "markdown",
      "id": "abdcef5d",
      "metadata": {
        "id": "abdcef5d"
      },
      "source": [
        "1. Зчитані дані - це сума покупок в доларах наших покупців на сайті протягом липня 2022 року.\n",
        "\n",
        "До цього місяця, ми мали продажі в середньому на чек $20. Чи вийшло у нас статистично значущо **підвищити** середній чек за останній місяць?\n",
        "\n",
        "Оберіть статистичний тест (z-test чи t-test). Виведіть p-значення статистичного тесту та зробіть висновок, чи ми маємо зараз статистично значущу різницю у розмірі середнього чеку.\n",
        "\n",
        "**Підказка**: тут тест буде одновибірковий."
      ]
    },
    {
      "cell_type": "code",
      "source": [
        "# Думаю що треба робити одновибірковий t-тест. Це пов'язано з тим, що ми, ймовірно,\n",
        "# не знаємо стандартне відхилення генеральної сукупності, тому z-тест тут менш доцільний."
      ],
      "metadata": {
        "id": "5G8BLhptHPk2"
      },
      "id": "5G8BLhptHPk2",
      "execution_count": 25,
      "outputs": []
    },
    {
      "cell_type": "code",
      "source": [
        "import pandas as pd\n",
        "import numpy as np\n",
        "from scipy.stats import t\n",
        "\n",
        "# Параметри для t-тесту\n",
        "mu_0 = 20  # Гіпотетичне середнє значення\n",
        "n = len(data)  # Розмір вибірки\n",
        "sample_mean = np.mean(data)  # Середнє значення вибірки\n",
        "sample_std = np.std(data, ddof=1)  # Стандартне відхилення вибірки\n",
        "\n",
        "# Розрахунок t-статистики\n",
        "t_statistic = (sample_mean - mu_0) / (sample_std / np.sqrt(n))\n",
        "\n",
        "# Розрахунок p-значення\n",
        "# Використовуємо симетричну функцію для двостороннього тесту\n",
        "p_value = 2 * (1 - t.cdf(np.abs(t_statistic), df=n-1))\n",
        "\n",
        "# Виведення результатів\n",
        "print(f\"Середнє значення вибірки: {sample_mean}\")\n",
        "print(f\"Стандартне відхилення вибірки: {sample_std}\")\n",
        "print(f\"t-статистика: {t_statistic}\")\n",
        "print(f\"p-значення: {p_value}\")\n",
        "\n",
        "# Висновок\n",
        "if p_value < 0.05:\n",
        "    print(\"Середній чек значущо відрізняється від $20 (p < 0.05).\")\n",
        "else:\n",
        "    print(\"Середній чек не значущо відрізняється від $20 (p >= 0.05).\")\n"
      ],
      "metadata": {
        "id": "XhxcSbYqhLz9",
        "outputId": "2f961231-6d9f-417f-b7d3-f2102ec6e2fd",
        "colab": {
          "base_uri": "https://localhost:8080/"
        }
      },
      "id": "XhxcSbYqhLz9",
      "execution_count": 26,
      "outputs": [
        {
          "output_type": "stream",
          "name": "stdout",
          "text": [
            "Середнє значення вибірки: 19.37755319670441\n",
            "Стандартне відхилення вибірки: 6.25356123240434\n",
            "t-статистика: -0.995347738933505\n",
            "p-значення: 0.32199378390119904\n",
            "Середній чек не значущо відрізняється від $20 (p >= 0.05).\n"
          ]
        }
      ]
    },
    {
      "cell_type": "markdown",
      "id": "05219e41",
      "metadata": {
        "ExecuteTime": {
          "end_time": "2022-12-10T14:52:46.140204Z",
          "start_time": "2022-12-10T14:52:46.112068Z"
        },
        "id": "05219e41"
      },
      "source": [
        "2. Пройшов час, і ми зібрали дані про продажі за серпень 2022 року, які зберігли у файл `data_2.csv`. Продажів було дещо більше, але чи змінився стат. значущо середній чек порівняно з липнем 2022? Перевірте це використовуючи ztest.\n",
        "\n",
        "  Виведіть p-значення статистичного тесту та зробіть висновок, чи ми маємо зараз статистично значущу різницю у розмірі середнього чека між двома місяцями.\n",
        "\n",
        "  **Підказка**: треба провести двовибірковий ztest з Н0 - що середні значення в липні та серпні 2022 року - однакові. Для кращого розуміння ситуації, можливо вам буде цікаво переглянути, які середні показники чеку були в кожен з місяців. Порівняйте свій висновок з простого спостереження середніх значень і висновок статистичного тесту. Чи вони збігаються?"
      ]
    },
    {
      "cell_type": "code",
      "source": [
        "from scipy.stats import norm\n",
        "from google.colab import drive\n",
        "\n",
        "# Шлях до файлів на Google Диску\n",
        "file_path_july = '/content/drive/My Drive/data.csv'\n",
        "file_path_august = '/content/drive/My Drive/data_2.csv'\n",
        "\n",
        "# Зчитування файлів з Google Диска\n",
        "dataframe_july = pd.read_csv(file_path_july)\n",
        "dataframe_august = pd.read_csv(file_path_august)\n",
        "\n",
        "# Витягування колонки 'data' та перетворення у np.ndarray\n",
        "data_july = dataframe_july['data'].to_numpy()\n",
        "data_august = dataframe_august['data'].to_numpy()\n",
        "\n",
        "# Обчислення середнього значення і стандартного відхилення для липня\n",
        "mean_july = np.mean(data_july)\n",
        "std_july = np.std(data_july, ddof=1)\n",
        "\n",
        "# Обчислення середнього значення і стандартного відхилення для серпня\n",
        "mean_august = np.mean(data_august)\n",
        "std_august = np.std(data_august, ddof=1)\n",
        "\n",
        "# Розміри вибірок\n",
        "n_july = len(data_july)\n",
        "n_august = len(data_august)\n",
        "\n",
        "# Об'єднане стандартне відхилення\n",
        "pooled_std = np.sqrt(std_july**2 / n_july + std_august**2 / n_august)\n",
        "\n",
        "# Розрахунок z-статистики\n",
        "z_statistic = (mean_july - mean_august) / pooled_std\n",
        "\n",
        "# Розрахунок p-значення (двосторонній тест)\n",
        "p_value = 2 * (1 - norm.cdf(np.abs(z_statistic)))\n",
        "\n",
        "# Виведення результатів\n",
        "print(f\"Середнє значення липня: {mean_july}\")\n",
        "print(f\"Середнє значення серпня: {mean_august}\")\n",
        "print(f\"Стандартне відхилення липня: {std_july}\")\n",
        "print(f\"Стандартне відхилення серпня: {std_august}\")\n",
        "print(f\"z-статистика: {z_statistic}\")\n",
        "print(f\"p-значення: {p_value}\")\n",
        "\n",
        "# Висновок\n",
        "if p_value < 0.05:\n",
        "    print(\"Середній чек значущо відрізняється між липнем і серпнем (p < 0.05).\")\n",
        "else:\n",
        "    print(\"Середній чек не значущо відрізняється між липнем і серпнем (p >= 0.05).\")\n"
      ],
      "metadata": {
        "id": "hbs7LPI4hP-6",
        "outputId": "f3ff3950-a727-40d4-9aa0-67ed7dbb1abd",
        "colab": {
          "base_uri": "https://localhost:8080/"
        }
      },
      "id": "hbs7LPI4hP-6",
      "execution_count": 22,
      "outputs": [
        {
          "output_type": "stream",
          "name": "stdout",
          "text": [
            "Середнє значення липня: 19.37755319670441\n",
            "Середнє значення серпня: 19.37322276512519\n",
            "Стандартне відхилення липня: 6.25356123240434\n",
            "Стандартне відхилення серпня: 5.96126011557911\n",
            "z-статистика: 0.005223803420073814\n",
            "p-значення: 0.9958320268584893\n",
            "Середній чек не значущо відрізняється між липнем і серпнем (p >= 0.05).\n"
          ]
        }
      ]
    }
  ],
  "metadata": {
    "hide_input": false,
    "kernelspec": {
      "display_name": "Python 3 (ipykernel)",
      "language": "python",
      "name": "python3"
    },
    "language_info": {
      "codemirror_mode": {
        "name": "ipython",
        "version": 3
      },
      "file_extension": ".py",
      "mimetype": "text/x-python",
      "name": "python",
      "nbconvert_exporter": "python",
      "pygments_lexer": "ipython3",
      "version": "3.11.3"
    },
    "toc": {
      "base_numbering": 1,
      "nav_menu": {},
      "number_sections": true,
      "sideBar": true,
      "skip_h1_title": false,
      "title_cell": "Table of Contents",
      "title_sidebar": "Contents",
      "toc_cell": false,
      "toc_position": {},
      "toc_section_display": true,
      "toc_window_display": false
    },
    "varInspector": {
      "cols": {
        "lenName": 16,
        "lenType": 16,
        "lenVar": 40
      },
      "kernels_config": {
        "python": {
          "delete_cmd_postfix": "",
          "delete_cmd_prefix": "del ",
          "library": "var_list.py",
          "varRefreshCmd": "print(var_dic_list())"
        },
        "r": {
          "delete_cmd_postfix": ") ",
          "delete_cmd_prefix": "rm(",
          "library": "var_list.r",
          "varRefreshCmd": "cat(var_dic_list()) "
        }
      },
      "types_to_exclude": [
        "module",
        "function",
        "builtin_function_or_method",
        "instance",
        "_Feature"
      ],
      "window_display": false
    },
    "colab": {
      "provenance": [],
      "include_colab_link": true
    }
  },
  "nbformat": 4,
  "nbformat_minor": 5
}