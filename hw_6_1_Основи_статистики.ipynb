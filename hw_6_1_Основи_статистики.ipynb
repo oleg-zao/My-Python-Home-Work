{
  "nbformat": 4,
  "nbformat_minor": 0,
  "metadata": {
    "colab": {
      "provenance": [],
      "include_colab_link": true
    },
    "kernelspec": {
      "name": "python3",
      "display_name": "Python 3"
    },
    "language_info": {
      "name": "python"
    }
  },
  "cells": [
    {
      "cell_type": "markdown",
      "metadata": {
        "id": "view-in-github",
        "colab_type": "text"
      },
      "source": [
        "<a href=\"https://colab.research.google.com/github/oleg-zao/My-Python-Home-Work/blob/main/hw_6_1_%D0%9E%D1%81%D0%BD%D0%BE%D0%B2%D0%B8_%D1%81%D1%82%D0%B0%D1%82%D0%B8%D1%81%D1%82%D0%B8%D0%BA%D0%B8.ipynb\" target=\"_parent\"><img src=\"https://colab.research.google.com/assets/colab-badge.svg\" alt=\"Open In Colab\"/></a>"
      ]
    },
    {
      "cell_type": "markdown",
      "source": [
        "В цьому домашньому завданні відпрацюємо з вами знання, отримані в модулі зі статистики.\n",
        "\n",
        "**Завдання 1.** Ми обговорили з Вами на лекції, що велика літера Сігма грецького алфавіту позначає в математиці суму. Знайдіть з використанням Python $\\Sigma x$, $\\Sigma x^2$, та $\\Sigma (x-1)^2$ для наступного набору даних:\n",
        "`1 3 4`\n",
        "Виведіть результат кожного обчислення на екран."
      ],
      "metadata": {
        "id": "SDhaTqxcWhnP"
      }
    },
    {
      "cell_type": "code",
      "source": [
        "data = [1, 3, 4]\n",
        "\n",
        "# Σx\n",
        "sum_x = sum(data)\n",
        "\n",
        "# Σx^2\n",
        "sum_x2 = sum(x**2 for x in data)\n",
        "\n",
        "# Σ(x-1)^2\n",
        "sum_x_minus_1_squared = sum((x-1)**2 for x in data)\n",
        "\n",
        "print(f\"Σx: (sum_x)\")\n",
        "print(f\"Σx^2: (sum_x2)\")\n",
        "print(f\"Σ(x-1)^2: (sum_x_minus_1_squared)\")\n"
      ],
      "metadata": {
        "id": "B1mgx_IBT0e8",
        "outputId": "5933c5d9-d2ec-44a8-c832-673de92bfa37",
        "colab": {
          "base_uri": "https://localhost:8080/"
        }
      },
      "execution_count": 1,
      "outputs": [
        {
          "output_type": "stream",
          "name": "stdout",
          "text": [
            "Σx: (sum_x)\n",
            "Σx^2: (sum_x2)\n",
            "Σ(x-1)^2: (sum_x_minus_1_squared)\n"
          ]
        }
      ]
    },
    {
      "cell_type": "markdown",
      "source": [
        "**Завдання 2.** Ми зібрали дані про суму покупок в гривнях 20ма випадково обраними клієнтами в нашому магазині (всього клієнтів у нас більше) за минулий місяць. Вони представлені в змінній `sum_purchases`. Знайдіть **вибіркове середнє** для цих даних кожним з зазначених методів:   \n",
        "\n",
        "  2.1. без використання жодних бібліотек, користуючись тільки Python.  \n",
        "  2.2. використовуючи відповідний метод бібліотеки `numpy`.\n",
        "\n",
        "  Виведіть результат обчислень в кожному з випадків на екран та порівняйте результати. Вони співпадають?"
      ],
      "metadata": {
        "id": "fa78aW5lhiia"
      }
    },
    {
      "cell_type": "code",
      "execution_count": 2,
      "metadata": {
        "id": "_9kMt3rq6V5m"
      },
      "outputs": [],
      "source": [
        "sum_purchases = [ 316,  493,  367,  153,  224,  121,  322,  450,  196,  397,  281,\n",
        "  239,  484,  124,  223,  448,  432,  255, 4310, 3524]"
      ]
    },
    {
      "cell_type": "code",
      "source": [
        "# Розрахунок вибіркового середнього\n",
        "mean_manual = sum(sum_purchases) / len(sum_purchases)\n",
        "print(f\"Вибіркове середнє без бібліотек: {mean_manual}\")"
      ],
      "metadata": {
        "id": "wPmL919HT1c0",
        "outputId": "ad3eb3c2-f420-41ed-c762-7f9f5f9b70a3",
        "colab": {
          "base_uri": "https://localhost:8080/"
        }
      },
      "execution_count": 3,
      "outputs": [
        {
          "output_type": "stream",
          "name": "stdout",
          "text": [
            "Вибіркове середнє без бібліотек: 667.95\n"
          ]
        }
      ]
    },
    {
      "cell_type": "code",
      "source": [
        "import numpy as np\n",
        "\n",
        "# Розрахунок вибіркового середнього за допомогою numpy\n",
        "mean_numpy = np.mean(sum_purchases)\n",
        "print(f\"Вибіркове середнє з numpy: {mean_numpy}\")\n"
      ],
      "metadata": {
        "id": "3Bopu1RfY_OT",
        "outputId": "736522f7-3969-419b-e85a-6af1100f594d",
        "colab": {
          "base_uri": "https://localhost:8080/"
        }
      },
      "execution_count": 4,
      "outputs": [
        {
          "output_type": "stream",
          "name": "stdout",
          "text": [
            "Вибіркове середнє з numpy: 667.95\n"
          ]
        }
      ]
    },
    {
      "cell_type": "markdown",
      "source": [
        "**Завдання 3.** Для того ж набору даних в змінній `sum_purchases` обчисліть **медіану** кожним з зазначених методів:  \n",
        "\n",
        "  3.1. без використання жодних бібліотек, користуючись тільки Python.  \n",
        "  3.2. використовуючи відповідний метод бібліотеки numpy.  \n",
        "\n",
        "Виведіть результат обчислень в кожному з випадків на екран. Порівняйте результати зі значенням вибіркового середнього. Напишіть коментар, для яких задач ви б використовували вибіркове середнє, а для яких - медіану?"
      ],
      "metadata": {
        "id": "FMdoxZd0kZdW"
      }
    },
    {
      "cell_type": "code",
      "source": [
        "# Розрахунок медіани без бібліотек\n",
        "sorted_purchases = sorted(sum_purchases)\n",
        "n = len(sorted_purchases)\n",
        "\n",
        "if n % 2 == 1:\n",
        "    median_manual = sorted_purchases[n // 2]\n",
        "else:\n",
        "    median_manual = (sorted_purchases[n // 2 - 1] + sorted_purchases[n // 2]) / 2\n",
        "\n",
        "print(f\"Медіана без бібліотек: {median_manual}\")"
      ],
      "metadata": {
        "id": "x58BumvuT2nl",
        "outputId": "9072f85a-f296-4f68-c59e-d86265c2b208",
        "colab": {
          "base_uri": "https://localhost:8080/"
        }
      },
      "execution_count": 5,
      "outputs": [
        {
          "output_type": "stream",
          "name": "stdout",
          "text": [
            "Медіана без бібліотек: 319.0\n"
          ]
        }
      ]
    },
    {
      "cell_type": "code",
      "source": [
        "# Використання numpy для розрахунку медіани\n",
        "median_numpy = np.median(sum_purchases)\n",
        "print(f\"Медіана з numpy: {median_numpy}\")"
      ],
      "metadata": {
        "id": "Hk8BhKNqgdbR",
        "outputId": "9344a815-2ead-4afc-cace-ce948382374d",
        "colab": {
          "base_uri": "https://localhost:8080/"
        }
      },
      "execution_count": 6,
      "outputs": [
        {
          "output_type": "stream",
          "name": "stdout",
          "text": [
            "Медіана з numpy: 319.0\n"
          ]
        }
      ]
    },
    {
      "cell_type": "markdown",
      "source": [
        "Медіана більш ніж в 2 рази меньше од вибіркового середнього, це значить що маємо викиди, наприклад остатні два числа, які на порядок відрізняються від усіх в цій сукупності. В такому разі думаю що краще користуватись медіаною, але це залежить від задачі. Тобто, якщо треба порахувати всі значення (всі покупки) то вибіркове среднє, а якщо наприклад на яку суму зазвичай роблять закупи, то медіана."
      ],
      "metadata": {
        "id": "lBQieb3jgtoQ"
      }
    },
    {
      "cell_type": "markdown",
      "source": [
        "**Завдання 4**. Обчислість стандартне відхилення наведеної вибірки в змінній `sum_purchases` кожним з зазначених методів:  \n",
        "\n",
        "  4.1. без використання жодних бібліотек, користуючись тільки Python.  \n",
        "  4.2. використовуючи відповідний метод бібліотеки numpy.  \n",
        "\n",
        "Виведіть результат обчислень в кожному з випадків на екран."
      ],
      "metadata": {
        "id": "o1Z7az2yNDQV"
      }
    },
    {
      "cell_type": "code",
      "source": [
        "# Розрахунок вибіркового середнього\n",
        "mean = sum(sum_purchases) / len(sum_purchases)\n",
        "\n",
        "# Розрахунок вибіркового стандартного відхилення\n",
        "squared_diff = [(x - mean) ** 2 for x in sum_purchases]\n",
        "variance = sum(squared_diff) / (len(sum_purchases) - 1)\n",
        "std_dev_manual = variance ** 0.5\n",
        "\n",
        "print(f\"Вибіркове стандартне відхилення без бібліотек: {std_dev_manual}\")"
      ],
      "metadata": {
        "id": "X4ixtmL2T642",
        "outputId": "0a01804b-d855-4580-9e56-d3b82dfcee86",
        "colab": {
          "base_uri": "https://localhost:8080/"
        }
      },
      "execution_count": 8,
      "outputs": [
        {
          "output_type": "stream",
          "name": "stdout",
          "text": [
            "Вибіркове стандартне відхилення без бібліотек: 1124.5433447451132\n"
          ]
        }
      ]
    },
    {
      "cell_type": "code",
      "source": [
        "# Використання numpy для розрахунку вибіркового стандартного відхилення\n",
        "std_dev_numpy = np.std(sum_purchases, ddof=1)\n",
        "print(f\"Вибіркове стандартне відхилення з numpy: {std_dev_numpy}\")"
      ],
      "metadata": {
        "id": "Gtre2BwlmzZ3",
        "outputId": "9b15b791-781e-407f-8d93-01cfa4a2e5bc",
        "colab": {
          "base_uri": "https://localhost:8080/"
        }
      },
      "execution_count": 9,
      "outputs": [
        {
          "output_type": "stream",
          "name": "stdout",
          "text": [
            "Вибіркове стандартне відхилення з numpy: 1124.5433447451132\n"
          ]
        }
      ]
    },
    {
      "cell_type": "markdown",
      "source": [
        "**Завдання 5**. Ми провели дослідження віку студентів-першокурсників. Виявилось, що\n",
        "- 10 студентів мають вік 16 років\n",
        "- 25 студентів - 17 років\n",
        "- 20 студентів - 18 років\n",
        "- 2 студенти - 20 років\n",
        "\n",
        "Обчислість середнє значення для цієї вибірки будь-яким способом - на чистому Python або з numpy - та виведіть результат на екран."
      ],
      "metadata": {
        "id": "M1ntKTjXLVlH"
      }
    },
    {
      "cell_type": "code",
      "source": [
        "# Дані про вік студентів та їх кількість\n",
        "ages = [16, 17, 18, 20]\n",
        "counts = [10, 25, 20, 2]\n",
        "\n",
        "# Розрахунок середнього значення\n",
        "total_students = sum(counts)\n",
        "weighted_sum = sum(age * count for age, count in zip(ages, counts))\n",
        "mean_age = weighted_sum / total_students\n",
        "\n",
        "print(f\"Середній вік студентів: {mean_age:.2f}\")"
      ],
      "metadata": {
        "id": "RdIU4M-7T8R4",
        "outputId": "b83aab64-508a-430a-8112-58410da5ab8f",
        "colab": {
          "base_uri": "https://localhost:8080/"
        }
      },
      "execution_count": 10,
      "outputs": [
        {
          "output_type": "stream",
          "name": "stdout",
          "text": [
            "Середній вік студентів: 17.28\n"
          ]
        }
      ]
    },
    {
      "cell_type": "code",
      "source": [
        "# Дані про вік студентів та їх кількість\n",
        "ages = np.array([16, 17, 18, 20])\n",
        "counts = np.array([10, 25, 20, 2])\n",
        "\n",
        "# Розрахунок середнього значення з numpy\n",
        "mean_age = np.average(ages, weights=counts)\n",
        "\n",
        "print(f\"Середній вік студентів з numpy: {mean_age:.2f}\")"
      ],
      "metadata": {
        "id": "bldn4UhjpHfo",
        "outputId": "1b3ffab0-928f-4c2a-cbd4-ba99244901b8",
        "colab": {
          "base_uri": "https://localhost:8080/"
        }
      },
      "execution_count": 11,
      "outputs": [
        {
          "output_type": "stream",
          "name": "stdout",
          "text": [
            "Середній вік студентів з numpy: 17.28\n"
          ]
        }
      ]
    },
    {
      "cell_type": "markdown",
      "source": [
        "**Завдання 6**. Крім даних про суму покупок, ми зібрали ще дані про кількість відвідувань кожного з кожного покупця, які знаходяться в змінній `visits`. Обчисліть коефіцієнт кореляції Пірсона для суми покупок і кількості відвідувань кожним з зазначених методів:  \n",
        "\n",
        "  6.1. без використання жодних бібліотек, користуючись тільки Python.  \n",
        "  6.2. використовуючи відповідний метод бібліотеки numpy.  \n",
        "  \n",
        "Виведіть результат на екран. Проаналізуйте результат.\n",
        "\n",
        "Виведіть додатково графік розсіювання викликавши код нижче і зробіть заключення, чи варто щось змінити при підрахунку кореляції, аби коефіцієнт Пірсона показував коректну оцінку лінійної залежності?"
      ],
      "metadata": {
        "id": "Xx8MFkkVM53z"
      }
    },
    {
      "cell_type": "code",
      "source": [
        "visits = [ 6,  2, 10,  3,  9,  9,  2,  3,  6,  6, 10,  2,  5, 10,  3,  5,  4,\n",
        "        7,  4,  2]"
      ],
      "metadata": {
        "id": "4OIGBT7UOWhO"
      },
      "execution_count": 13,
      "outputs": []
    },
    {
      "cell_type": "code",
      "source": [
        "# Обчислення середніх значень\n",
        "mean_purchases = sum(sum_purchases) / len(sum_purchases)\n",
        "mean_visits = sum(visits) / len(visits)\n",
        "\n",
        "# Обчислення коефіцієнта кореляції вручну\n",
        "numerator = sum((x - mean_purchases) * (y - mean_visits) for x, y in zip(sum_purchases, visits))\n",
        "denominator_x = sum((x - mean_purchases) ** 2 for x in sum_purchases)\n",
        "denominator_y = sum((y - mean_visits) ** 2 for y in visits)\n",
        "denominator = (denominator_x * denominator_y) ** 0.5\n",
        "\n",
        "correlation_manual = numerator / denominator\n",
        "\n",
        "print(f\"Коефіцієнт кореляції Пірсона без бібліотек: {correlation_manual:.4f}\")"
      ],
      "metadata": {
        "id": "YLNF7VbeT97Q",
        "outputId": "179b7114-c0ae-439b-d525-a1b379286dbc",
        "colab": {
          "base_uri": "https://localhost:8080/"
        }
      },
      "execution_count": 14,
      "outputs": [
        {
          "output_type": "stream",
          "name": "stdout",
          "text": [
            "Коефіцієнт кореляції Пірсона без бібліотек: -0.3027\n"
          ]
        }
      ]
    },
    {
      "cell_type": "code",
      "source": [
        "# Дані\n",
        "sum_purchases = np.array([316, 493, 367, 153, 224, 121, 322, 450, 196, 397, 281,\n",
        "                          239, 484, 124, 223, 448, 432, 255, 4310, 3524])\n",
        "visits = np.array([6, 2, 10, 3, 9, 9, 2, 3, 6, 6, 10, 2, 5, 10, 3, 5, 4, 7, 4, 2])\n",
        "\n",
        "# Обчислення коефіцієнта кореляції з numpy\n",
        "correlation_numpy = np.corrcoef(sum_purchases, visits)[0, 1]\n",
        "\n",
        "print(f\"Коефіцієнт кореляції Пірсона з numpy: {correlation_numpy:.4f}\")\n"
      ],
      "metadata": {
        "id": "ZEqkeiZ4r4uQ",
        "outputId": "90a1d89d-2ef2-4cdf-fa15-eb09f605675b",
        "colab": {
          "base_uri": "https://localhost:8080/"
        }
      },
      "execution_count": 16,
      "outputs": [
        {
          "output_type": "stream",
          "name": "stdout",
          "text": [
            "Коефіцієнт кореляції Пірсона з numpy: -0.3027\n"
          ]
        }
      ]
    },
    {
      "cell_type": "code",
      "source": [
        "import matplotlib.pyplot as plt\n",
        "\n",
        "plt.scatter(sum_purchases, visits)\n",
        "plt.title('Scatter Plot of Purchases vs. Visits')\n",
        "plt.xlabel('Sum of Purchases')\n",
        "plt.ylabel('Number of Visits');"
      ],
      "metadata": {
        "colab": {
          "base_uri": "https://localhost:8080/",
          "height": 472
        },
        "id": "gaeoGA-5Prr1",
        "outputId": "a1ebb598-b21a-4a50-813b-961f06c41ed0"
      },
      "execution_count": 17,
      "outputs": [
        {
          "output_type": "display_data",
          "data": {
            "text/plain": [
              "<Figure size 640x480 with 1 Axes>"
            ],
            "image/png": "[encoded data removed]"
          },
          "metadata": {}
        }
      ]
    },
    {
      "cell_type": "markdown",
      "source": [
        "Щоб покращити підрахунок кореляціі треба невраховувати викиди, суми які дуже відрізняються від усіх інших. Вони скоріше є видковими ніж закономірними та псують загальну картину."
      ],
      "metadata": {
        "id": "mBNYm0eZt_aq"
      }
    },
    {
      "cell_type": "markdown",
      "source": [
        "**Завдання 7**. В попередньому завданні ми помітили, що викиди нам заважають отримати \"правдиве\" значення кореляції. Давайте вилучимо записи, які відповідають значенням з викидами в сумі покупок і обчисліть коеф. кореляції. Для цього поставте `threshold`, який дорінює середньому значенню + 2 стандартних вдіхилля суми покупок і всі значення, які більше за нього, будемо вважати викидами (є і інші правила для визначення викидів - з ним и познайомимось пізніше).\n",
        "\n",
        "Вилучіть значення з обох масивів і обчисліть коеф. кореляції Пірсона з допомогою `numpy` для кількості візитів і суми покупок без записів-викидів. Виведіть результат на екран, побудуйте діаграму розсіювання і проаналізуйте результат: що можемо сказати про залежність в даних?"
      ],
      "metadata": {
        "id": "4pEg0KzSQ6KA"
      }
    },
    {
      "cell_type": "code",
      "source": [
        "# Обчислення середнього і стандартного відхилення\n",
        "mean_purchases = np.mean(sum_purchases)\n",
        "std_purchases = np.std(sum_purchases, ddof=1)\n",
        "\n",
        "# Визначення порогу для викидів\n",
        "threshold = mean_purchases + 2 * std_purchases\n",
        "\n",
        "# Вилучення викидів\n",
        "mask = sum_purchases <= threshold\n",
        "filtered_sum_purchases = sum_purchases[mask]\n",
        "filtered_visits = visits[mask]\n",
        "\n",
        "# Обчислення коефіцієнта кореляції Пірсона з numpy\n",
        "correlation_numpy = np.corrcoef(filtered_sum_purchases, filtered_visits)[0, 1]\n",
        "print(f\"Коефіцієнт кореляції Пірсона без викидів: {correlation_numpy:.4f}\")\n",
        "\n",
        "# Побудова діаграми розсіювання\n",
        "plt.scatter(filtered_visits, filtered_sum_purchases)\n",
        "plt.xlabel('Кількість відвідувань')\n",
        "plt.ylabel('Сума покупок (грн)')\n",
        "plt.title('Залежність суми покупок від кількості відвідувань (без викидів)')\n",
        "plt.show()"
      ],
      "metadata": {
        "id": "Yj3Yfaf7UBbc",
        "outputId": "bd102032-b738-42a3-d9e1-cc7d22a8cbc7",
        "colab": {
          "base_uri": "https://localhost:8080/",
          "height": 489
        }
      },
      "execution_count": 20,
      "outputs": [
        {
          "output_type": "stream",
          "name": "stdout",
          "text": [
            "Коефіцієнт кореляції Пірсона без викидів: -0.3685\n"
          ]
        },
        {
          "output_type": "display_data",
          "data": {
            "text/plain": [
              "<Figure size 640x480 with 1 Axes>"
            ],
            "image/png": "[encoded data removed]"
          },
          "metadata": {}
        }
      ]
    }
  ]
}